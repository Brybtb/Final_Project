{
 "cells": [
  {
   "cell_type": "markdown",
   "metadata": {},
   "source": [
    " "
   ]
  },
  {
   "cell_type": "markdown",
   "metadata": {},
   "source": [
    "## Part I: Data Cleaning and Exploration"
   ]
  },
  {
   "cell_type": "markdown",
   "metadata": {},
   "source": [
    "#### Step 1: import dependencies"
   ]
  },
  {
   "cell_type": "code",
   "execution_count": 217,
   "metadata": {},
   "outputs": [],
   "source": [
    "#import dependencies\n",
    "import pandas as pd\n",
    "import seaborn as sns\n",
    "import matplotlib.pyplot as plt\n",
    "%matplotlib inline\n",
    "import numpy as np\n",
    "\n",
    "from sklearn.linear_model import LogisticRegression\n",
    "from sklearn.tree import DecisionTreeClassifier\n",
    "from sklearn.ensemble import RandomForestClassifier\n",
    "from sklearn.svm import SVC\n",
    "from sklearn.preprocessing import StandardScaler\n",
    "from sklearn.model_selection import train_test_split, ShuffleSplit, GridSearchCV\n",
    "from sklearn.metrics import roc_auc_score, roc_curve, auc"
   ]
  },
  {
   "cell_type": "markdown",
   "metadata": {},
   "source": [
    "#### Step 2: read csv file and observe dataset (columns, shape, datatypes, missing values)"
   ]
  },
  {
   "cell_type": "code",
   "execution_count": 218,
   "metadata": {},
   "outputs": [],
   "source": [
    "# read the csv file into a pandas dataframe\n",
    "allData = pd.read_csv(\"cardioRiskDataset.csv\",header=0)"
   ]
  },
  {
   "cell_type": "code",
   "execution_count": 219,
   "metadata": {},
   "outputs": [
    {
     "data": {
      "text/html": [
       "<div>\n",
       "<style scoped>\n",
       "    .dataframe tbody tr th:only-of-type {\n",
       "        vertical-align: middle;\n",
       "    }\n",
       "\n",
       "    .dataframe tbody tr th {\n",
       "        vertical-align: top;\n",
       "    }\n",
       "\n",
       "    .dataframe thead th {\n",
       "        text-align: right;\n",
       "    }\n",
       "</style>\n",
       "<table border=\"1\" class=\"dataframe\">\n",
       "  <thead>\n",
       "    <tr style=\"text-align: right;\">\n",
       "      <th></th>\n",
       "      <th>ID</th>\n",
       "      <th>Gender</th>\n",
       "      <th>Age</th>\n",
       "      <th>EverMarried</th>\n",
       "      <th>WorkType</th>\n",
       "      <th>ResidenceType</th>\n",
       "      <th>AvgGlucose</th>\n",
       "      <th>BMI</th>\n",
       "      <th>SmokingStatus</th>\n",
       "      <th>Risk</th>\n",
       "    </tr>\n",
       "  </thead>\n",
       "  <tbody>\n",
       "    <tr>\n",
       "      <th>0</th>\n",
       "      <td>53882</td>\n",
       "      <td>Male</td>\n",
       "      <td>74.0</td>\n",
       "      <td>Yes</td>\n",
       "      <td>Private</td>\n",
       "      <td>Rural</td>\n",
       "      <td>70.09</td>\n",
       "      <td>27.4</td>\n",
       "      <td>never smoked</td>\n",
       "      <td>3</td>\n",
       "    </tr>\n",
       "    <tr>\n",
       "      <th>1</th>\n",
       "      <td>712</td>\n",
       "      <td>Female</td>\n",
       "      <td>82.0</td>\n",
       "      <td>No</td>\n",
       "      <td>Private</td>\n",
       "      <td>Rural</td>\n",
       "      <td>84.03</td>\n",
       "      <td>26.5</td>\n",
       "      <td>formerly smoked</td>\n",
       "      <td>3</td>\n",
       "    </tr>\n",
       "    <tr>\n",
       "      <th>2</th>\n",
       "      <td>53401</td>\n",
       "      <td>Male</td>\n",
       "      <td>71.0</td>\n",
       "      <td>No</td>\n",
       "      <td>Govt_job</td>\n",
       "      <td>Rural</td>\n",
       "      <td>216.94</td>\n",
       "      <td>30.9</td>\n",
       "      <td>never smoked</td>\n",
       "      <td>3</td>\n",
       "    </tr>\n",
       "    <tr>\n",
       "      <th>3</th>\n",
       "      <td>37651</td>\n",
       "      <td>Female</td>\n",
       "      <td>69.0</td>\n",
       "      <td>No</td>\n",
       "      <td>Self-employed</td>\n",
       "      <td>Urban</td>\n",
       "      <td>72.17</td>\n",
       "      <td>36.8</td>\n",
       "      <td>never smoked</td>\n",
       "      <td>3</td>\n",
       "    </tr>\n",
       "    <tr>\n",
       "      <th>4</th>\n",
       "      <td>60739</td>\n",
       "      <td>Female</td>\n",
       "      <td>79.0</td>\n",
       "      <td>No</td>\n",
       "      <td>Self-employed</td>\n",
       "      <td>Rural</td>\n",
       "      <td>60.94</td>\n",
       "      <td>NaN</td>\n",
       "      <td>never smoked</td>\n",
       "      <td>3</td>\n",
       "    </tr>\n",
       "  </tbody>\n",
       "</table>\n",
       "</div>"
      ],
      "text/plain": [
       "      ID  Gender   Age EverMarried       WorkType ResidenceType  AvgGlucose  \\\n",
       "0  53882    Male  74.0         Yes        Private         Rural       70.09   \n",
       "1    712  Female  82.0          No        Private         Rural       84.03   \n",
       "2  53401    Male  71.0          No       Govt_job         Rural      216.94   \n",
       "3  37651  Female  69.0          No  Self-employed         Urban       72.17   \n",
       "4  60739  Female  79.0          No  Self-employed         Rural       60.94   \n",
       "\n",
       "    BMI    SmokingStatus  Risk  \n",
       "0  27.4     never smoked     3  \n",
       "1  26.5  formerly smoked     3  \n",
       "2  30.9     never smoked     3  \n",
       "3  36.8     never smoked     3  \n",
       "4   NaN     never smoked     3  "
      ]
     },
     "execution_count": 219,
     "metadata": {},
     "output_type": "execute_result"
    }
   ],
   "source": [
    "# preview dataset\n",
    "allData.head()"
   ]
  },
  {
   "cell_type": "code",
   "execution_count": 220,
   "metadata": {},
   "outputs": [],
   "source": [
    "# delete ID column because it won't be useful for machine learning\n",
    "del allData[\"ID\"]"
   ]
  },
  {
   "cell_type": "code",
   "execution_count": 221,
   "metadata": {},
   "outputs": [
    {
     "name": "stdout",
     "output_type": "stream",
     "text": [
      "<class 'pandas.core.frame.DataFrame'>\n",
      "RangeIndex: 43400 entries, 0 to 43399\n",
      "Data columns (total 9 columns):\n",
      "Gender           43400 non-null object\n",
      "Age              43400 non-null float64\n",
      "EverMarried      43400 non-null object\n",
      "WorkType         43400 non-null object\n",
      "ResidenceType    43400 non-null object\n",
      "AvgGlucose       43400 non-null float64\n",
      "BMI              41938 non-null float64\n",
      "SmokingStatus    30108 non-null object\n",
      "Risk             43400 non-null int64\n",
      "dtypes: float64(3), int64(1), object(5)\n",
      "memory usage: 3.0+ MB\n"
     ]
    }
   ],
   "source": [
    "# view dataset information - specifically datatypes\n",
    "allData.info()\n",
    "# Notice that there are missing values in BMI and Smoking Status."
   ]
  },
  {
   "cell_type": "markdown",
   "metadata": {},
   "source": [
    "About 30% of the Smoking Status data is missing - probably will not influence bias to delete, so we will delete it.<br>\n",
    "About 3% of the BMI data is missing, so we will need to deal with missing data by either deleting or with imputation <br> https://towardsdatascience.com/how-to-handle-missing-data-8646b18db0d4"
   ]
  },
  {
   "cell_type": "code",
   "execution_count": 222,
   "metadata": {},
   "outputs": [],
   "source": [
    "# remove Smoking Status from dataframe\n",
    "allDataClean = allData.drop('SmokingStatus', axis=1)"
   ]
  },
  {
   "cell_type": "code",
   "execution_count": 223,
   "metadata": {},
   "outputs": [
    {
     "name": "stderr",
     "output_type": "stream",
     "text": [
      "C:\\Users\\Cnellis\\AppData\\Roaming\\Python\\Python36\\site-packages\\sklearn\\utils\\deprecation.py:58: DeprecationWarning: Class Imputer is deprecated; Imputer was deprecated in version 0.20 and will be removed in 0.22. Import impute.SimpleImputer from sklearn instead.\n",
      "  warnings.warn(msg, category=DeprecationWarning)\n"
     ]
    }
   ],
   "source": [
    "# Impute missing BMI Data\n",
    "from sklearn.preprocessing import Imputer\n",
    "imputer = Imputer(missing_values = 'NaN', strategy = 'mean', axis = 0)\n",
    "imputer = imputer.fit(allDataClean[[\"BMI\"]])\n",
    "allDataClean['BMI'] = imputer.transform(allDataClean[['BMI']]).ravel()"
   ]
  },
  {
   "cell_type": "code",
   "execution_count": 224,
   "metadata": {},
   "outputs": [
    {
     "name": "stdout",
     "output_type": "stream",
     "text": [
      "<class 'pandas.core.frame.DataFrame'>\n",
      "RangeIndex: 43400 entries, 0 to 43399\n",
      "Data columns (total 8 columns):\n",
      "Gender           43400 non-null object\n",
      "Age              43400 non-null float64\n",
      "EverMarried      43400 non-null object\n",
      "WorkType         43400 non-null object\n",
      "ResidenceType    43400 non-null object\n",
      "AvgGlucose       43400 non-null float64\n",
      "BMI              43400 non-null float64\n",
      "Risk             43400 non-null int64\n",
      "dtypes: float64(3), int64(1), object(4)\n",
      "memory usage: 2.6+ MB\n"
     ]
    }
   ],
   "source": [
    "allDataClean.info()"
   ]
  },
  {
   "cell_type": "markdown",
   "metadata": {},
   "source": [
    "#### Step 3: Explore target variable's (Risk) proportion in dataset"
   ]
  },
  {
   "cell_type": "code",
   "execution_count": 225,
   "metadata": {},
   "outputs": [
    {
     "data": {
      "text/plain": [
       "<matplotlib.axes._subplots.AxesSubplot at 0x185af603a58>"
      ]
     },
     "execution_count": 225,
     "metadata": {},
     "output_type": "execute_result"
    },
    {
     "data": {
      "image/png": "[encoded data removed]",
      "text/plain": [
       "<Figure size 432x288 with 1 Axes>"
      ]
     },
     "metadata": {},
     "output_type": "display_data"
    }
   ],
   "source": [
    "# view proportion of risk factor among population\n",
    "sns.set_style('whitegrid')\n",
    "sns.countplot(x='Risk',data=allDataClean,palette='RdBu_r')"
   ]
  },
  {
   "cell_type": "code",
   "execution_count": 226,
   "metadata": {},
   "outputs": [],
   "source": [
    "# To increase balance of higher risk to lower risk, will group risk levels 1, 2, and 3 together as high risk and 0 as low risk:\n",
    "allDataClean['Risk'] = allDataClean['Risk'].replace({0: 'low', 1: 'high', 2: 'high', 3: 'high'})"
   ]
  },
  {
   "cell_type": "code",
   "execution_count": 227,
   "metadata": {},
   "outputs": [
    {
     "data": {
      "text/plain": [
       "<matplotlib.axes._subplots.AxesSubplot at 0x185afda22b0>"
      ]
     },
     "execution_count": 227,
     "metadata": {},
     "output_type": "execute_result"
    },
    {
     "data": {
      "image/png": "[encoded data removed]",
      "text/plain": [
       "<Figure size 432x288 with 1 Axes>"
      ]
     },
     "metadata": {},
     "output_type": "display_data"
    }
   ],
   "source": [
    "# Now, view new proportion of risk factor among population\n",
    "sns.set_style('whitegrid')\n",
    "sns.countplot(x='Risk',data=allDataClean,palette='Set1')"
   ]
  },
  {
   "cell_type": "markdown",
   "metadata": {},
   "source": [
    "the dataset is still a bit unbalanced but is acceptable as higher risk for marjor cardio diseases  accounts for about 13% of the dataset."
   ]
  },
  {
   "cell_type": "code",
   "execution_count": 228,
   "metadata": {},
   "outputs": [
    {
     "data": {
      "text/html": [
       "<div>\n",
       "<style scoped>\n",
       "    .dataframe tbody tr th:only-of-type {\n",
       "        vertical-align: middle;\n",
       "    }\n",
       "\n",
       "    .dataframe tbody tr th {\n",
       "        vertical-align: top;\n",
       "    }\n",
       "\n",
       "    .dataframe thead th {\n",
       "        text-align: right;\n",
       "    }\n",
       "</style>\n",
       "<table border=\"1\" class=\"dataframe\">\n",
       "  <thead>\n",
       "    <tr style=\"text-align: right;\">\n",
       "      <th></th>\n",
       "      <th>Gender</th>\n",
       "      <th>Age</th>\n",
       "      <th>EverMarried</th>\n",
       "      <th>WorkType</th>\n",
       "      <th>ResidenceType</th>\n",
       "      <th>AvgGlucose</th>\n",
       "      <th>BMI</th>\n",
       "    </tr>\n",
       "    <tr>\n",
       "      <th>Risk</th>\n",
       "      <th></th>\n",
       "      <th></th>\n",
       "      <th></th>\n",
       "      <th></th>\n",
       "      <th></th>\n",
       "      <th></th>\n",
       "      <th></th>\n",
       "    </tr>\n",
       "  </thead>\n",
       "  <tbody>\n",
       "    <tr>\n",
       "      <th>high</th>\n",
       "      <td>6066</td>\n",
       "      <td>6066</td>\n",
       "      <td>6066</td>\n",
       "      <td>6066</td>\n",
       "      <td>6066</td>\n",
       "      <td>6066</td>\n",
       "      <td>6066</td>\n",
       "    </tr>\n",
       "    <tr>\n",
       "      <th>low</th>\n",
       "      <td>37334</td>\n",
       "      <td>37334</td>\n",
       "      <td>37334</td>\n",
       "      <td>37334</td>\n",
       "      <td>37334</td>\n",
       "      <td>37334</td>\n",
       "      <td>37334</td>\n",
       "    </tr>\n",
       "  </tbody>\n",
       "</table>\n",
       "</div>"
      ],
      "text/plain": [
       "      Gender    Age  EverMarried  WorkType  ResidenceType  AvgGlucose    BMI\n",
       "Risk                                                                        \n",
       "high    6066   6066         6066      6066           6066        6066   6066\n",
       "low    37334  37334        37334     37334          37334       37334  37334"
      ]
     },
     "execution_count": 228,
     "metadata": {},
     "output_type": "execute_result"
    }
   ],
   "source": [
    "allDataClean.groupby('Risk').count()"
   ]
  },
  {
   "cell_type": "markdown",
   "metadata": {},
   "source": [
    "#### Step4: Explore Data for Feature Selection"
   ]
  },
  {
   "cell_type": "code",
   "execution_count": 229,
   "metadata": {
    "scrolled": true
   },
   "outputs": [
    {
     "data": {
      "image/png": "[encoded data removed]",
      "text/plain": [
       "<Figure size 432x288 with 1 Axes>"
      ]
     },
     "metadata": {},
     "output_type": "display_data"
    }
   ],
   "source": [
    "# 1) Look at Count of Risk by Gender (color = risk level)\n",
    "\n",
    "# sns.countplot(x='Gender',hue='Risk',data=allDataClean,palette='Set1')\n",
    "# sns.set_style('whitegrid')\n",
    "\n",
    "# delete 'other' category in gender since it's under-represented\n",
    "allDataClean = allDataClean[allDataClean.Gender != 'Other']\n",
    "# view Count of Risk by Gender again (color = risk level)\n",
    "sns.countplot(x='Gender',hue='Risk',data=allDataClean,palette='Set1')\n",
    "sns.set_style('whitegrid')"
   ]
  },
  {
   "cell_type": "code",
   "execution_count": 230,
   "metadata": {},
   "outputs": [
    {
     "data": {
      "text/plain": [
       "(43389, 8)"
      ]
     },
     "execution_count": 230,
     "metadata": {},
     "output_type": "execute_result"
    }
   ],
   "source": [
    "# observe that still have over 40k rows after deleting other gender\n",
    "allDataClean.shape"
   ]
  },
  {
   "cell_type": "code",
   "execution_count": 231,
   "metadata": {},
   "outputs": [
    {
     "data": {
      "image/png": "[encoded data removed]",
      "text/plain": [
       "<Figure size 432x288 with 1 Axes>"
      ]
     },
     "metadata": {},
     "output_type": "display_data"
    }
   ],
   "source": [
    "# 2) Look at Count of Risk by Age (color = risk level) \n",
    "sns.set_style('whitegrid')\n",
    "ax = sns.countplot(x='Age',hue='Risk',data=allDataClean,palette='Set1')\n",
    "\n",
    "# create more meaningful age groups\n",
    "bins = [0, 20, 40, 60, 100]\n",
    "labels = ['0-20', '20-40', '40-60', '60-100']\n",
    "allDataClean['binnedAge'] = pd.cut(allDataClean['Age'], bins=bins, labels=labels)\n",
    "\n",
    "# # view count of risk by new groups (color = risk)\n",
    "sns.set_style('whitegrid')\n",
    "ax = sns.countplot(x='binnedAge',hue='Risk',data=allDataClean,palette='Set1')\n",
    "\n",
    "# drop old Age column\n",
    "allDataClean = allDataClean.drop(['Age'], axis=1)"
   ]
  },
  {
   "cell_type": "code",
   "execution_count": 232,
   "metadata": {},
   "outputs": [
    {
     "data": {
      "image/png": "[encoded data removed]",
      "text/plain": [
       "<Figure size 432x288 with 1 Axes>"
      ]
     },
     "metadata": {},
     "output_type": "display_data"
    }
   ],
   "source": [
    "# 3) Look at Count of Risk by EverMarried (color = risk level) \n",
    "sns.set_style('whitegrid')\n",
    "ax = sns.countplot(x='EverMarried',hue='Risk',data=allDataClean,palette='Set1')"
   ]
  },
  {
   "cell_type": "code",
   "execution_count": 233,
   "metadata": {},
   "outputs": [
    {
     "data": {
      "image/png": "[encoded data removed]",
      "text/plain": [
       "<Figure size 432x288 with 1 Axes>"
      ]
     },
     "metadata": {},
     "output_type": "display_data"
    }
   ],
   "source": [
    "# 4) Look at Count of Risk by WorkType (color = risk level) \n",
    "sns.set_style('whitegrid')\n",
    "ax = sns.countplot(x='WorkType',hue='Risk',data=allDataClean,palette='Set1')\n",
    "# delete \"Never_worked\" category since under-represented\n",
    "allDataClean = allDataClean[allDataClean.WorkType != 'Never_worked']\n",
    "# view Count of Risk by Work Type again (color = risk level)\n",
    "sns.countplot(x='WorkType',hue='Risk',data=allDataClean,palette='Set1')\n",
    "sns.set_style('whitegrid')"
   ]
  },
  {
   "cell_type": "code",
   "execution_count": 234,
   "metadata": {},
   "outputs": [
    {
     "data": {
      "image/png": "[encoded data removed]",
      "text/plain": [
       "<Figure size 432x288 with 1 Axes>"
      ]
     },
     "metadata": {},
     "output_type": "display_data"
    }
   ],
   "source": [
    "# 5) Look at Count of Risk by ResidenceType (color = risk level) \n",
    "sns.set_style('whitegrid')\n",
    "ax = sns.countplot(x='ResidenceType',hue='Risk',data=allDataClean,palette='Set1')"
   ]
  },
  {
   "cell_type": "code",
   "execution_count": 236,
   "metadata": {},
   "outputs": [
    {
     "ename": "KeyError",
     "evalue": "'AvgGlucose'",
     "output_type": "error",
     "traceback": [
      "\u001b[1;31m---------------------------------------------------------------------------\u001b[0m",
      "\u001b[1;31mKeyError\u001b[0m                                  Traceback (most recent call last)",
      "\u001b[1;32mC:\\ProgramData\\Anaconda3\\lib\\site-packages\\pandas\\core\\indexes\\base.py\u001b[0m in \u001b[0;36mget_loc\u001b[1;34m(self, key, method, tolerance)\u001b[0m\n\u001b[0;32m   3062\u001b[0m             \u001b[1;32mtry\u001b[0m\u001b[1;33m:\u001b[0m\u001b[1;33m\u001b[0m\u001b[0m\n\u001b[1;32m-> 3063\u001b[1;33m                 \u001b[1;32mreturn\u001b[0m \u001b[0mself\u001b[0m\u001b[1;33m.\u001b[0m\u001b[0m_engine\u001b[0m\u001b[1;33m.\u001b[0m\u001b[0mget_loc\u001b[0m\u001b[1;33m(\u001b[0m\u001b[0mkey\u001b[0m\u001b[1;33m)\u001b[0m\u001b[1;33m\u001b[0m\u001b[0m\n\u001b[0m\u001b[0;32m   3064\u001b[0m             \u001b[1;32mexcept\u001b[0m \u001b[0mKeyError\u001b[0m\u001b[1;33m:\u001b[0m\u001b[1;33m\u001b[0m\u001b[0m\n",
      "\u001b[1;32mpandas\\_libs\\index.pyx\u001b[0m in \u001b[0;36mpandas._libs.index.IndexEngine.get_loc\u001b[1;34m()\u001b[0m\n",
      "\u001b[1;32mpandas\\_libs\\index.pyx\u001b[0m in \u001b[0;36mpandas._libs.index.IndexEngine.get_loc\u001b[1;34m()\u001b[0m\n",
      "\u001b[1;32mpandas\\_libs\\hashtable_class_helper.pxi\u001b[0m in \u001b[0;36mpandas._libs.hashtable.PyObjectHashTable.get_item\u001b[1;34m()\u001b[0m\n",
      "\u001b[1;32mpandas\\_libs\\hashtable_class_helper.pxi\u001b[0m in \u001b[0;36mpandas._libs.hashtable.PyObjectHashTable.get_item\u001b[1;34m()\u001b[0m\n",
      "\u001b[1;31mKeyError\u001b[0m: 'AvgGlucose'",
      "\nDuring handling of the above exception, another exception occurred:\n",
      "\u001b[1;31mKeyError\u001b[0m                                  Traceback (most recent call last)",
      "\u001b[1;32m<ipython-input-236-e445c922f5f5>\u001b[0m in \u001b[0;36m<module>\u001b[1;34m()\u001b[0m\n\u001b[0;32m      4\u001b[0m \u001b[1;31m# ax = sns.countplot(x='AvgGlucose',hue='Risk',data=allDataClean,palette='Set1')\u001b[0m\u001b[1;33m\u001b[0m\u001b[1;33m\u001b[0m\u001b[0m\n\u001b[0;32m      5\u001b[0m \u001b[1;33m\u001b[0m\u001b[0m\n\u001b[1;32m----> 6\u001b[1;33m allDataClean[allDataClean['Risk']=='low']['AvgGlucose'].hist(alpha=0.65,color='blue',\n\u001b[0m\u001b[0;32m      7\u001b[0m                                               bins=30,label='low risk')\n\u001b[0;32m      8\u001b[0m allDataClean[allDataClean['Risk']=='high']['AvgGlucose'].hist(alpha=0.7,color='red',\n",
      "\u001b[1;32mC:\\ProgramData\\Anaconda3\\lib\\site-packages\\pandas\\core\\frame.py\u001b[0m in \u001b[0;36m__getitem__\u001b[1;34m(self, key)\u001b[0m\n\u001b[0;32m   2683\u001b[0m             \u001b[1;32mreturn\u001b[0m \u001b[0mself\u001b[0m\u001b[1;33m.\u001b[0m\u001b[0m_getitem_multilevel\u001b[0m\u001b[1;33m(\u001b[0m\u001b[0mkey\u001b[0m\u001b[1;33m)\u001b[0m\u001b[1;33m\u001b[0m\u001b[0m\n\u001b[0;32m   2684\u001b[0m         \u001b[1;32melse\u001b[0m\u001b[1;33m:\u001b[0m\u001b[1;33m\u001b[0m\u001b[0m\n\u001b[1;32m-> 2685\u001b[1;33m             \u001b[1;32mreturn\u001b[0m \u001b[0mself\u001b[0m\u001b[1;33m.\u001b[0m\u001b[0m_getitem_column\u001b[0m\u001b[1;33m(\u001b[0m\u001b[0mkey\u001b[0m\u001b[1;33m)\u001b[0m\u001b[1;33m\u001b[0m\u001b[0m\n\u001b[0m\u001b[0;32m   2686\u001b[0m \u001b[1;33m\u001b[0m\u001b[0m\n\u001b[0;32m   2687\u001b[0m     \u001b[1;32mdef\u001b[0m \u001b[0m_getitem_column\u001b[0m\u001b[1;33m(\u001b[0m\u001b[0mself\u001b[0m\u001b[1;33m,\u001b[0m \u001b[0mkey\u001b[0m\u001b[1;33m)\u001b[0m\u001b[1;33m:\u001b[0m\u001b[1;33m\u001b[0m\u001b[0m\n",
      "\u001b[1;32mC:\\ProgramData\\Anaconda3\\lib\\site-packages\\pandas\\core\\frame.py\u001b[0m in \u001b[0;36m_getitem_column\u001b[1;34m(self, key)\u001b[0m\n\u001b[0;32m   2690\u001b[0m         \u001b[1;31m# get column\u001b[0m\u001b[1;33m\u001b[0m\u001b[1;33m\u001b[0m\u001b[0m\n\u001b[0;32m   2691\u001b[0m         \u001b[1;32mif\u001b[0m \u001b[0mself\u001b[0m\u001b[1;33m.\u001b[0m\u001b[0mcolumns\u001b[0m\u001b[1;33m.\u001b[0m\u001b[0mis_unique\u001b[0m\u001b[1;33m:\u001b[0m\u001b[1;33m\u001b[0m\u001b[0m\n\u001b[1;32m-> 2692\u001b[1;33m             \u001b[1;32mreturn\u001b[0m \u001b[0mself\u001b[0m\u001b[1;33m.\u001b[0m\u001b[0m_get_item_cache\u001b[0m\u001b[1;33m(\u001b[0m\u001b[0mkey\u001b[0m\u001b[1;33m)\u001b[0m\u001b[1;33m\u001b[0m\u001b[0m\n\u001b[0m\u001b[0;32m   2693\u001b[0m \u001b[1;33m\u001b[0m\u001b[0m\n\u001b[0;32m   2694\u001b[0m         \u001b[1;31m# duplicate columns & possible reduce dimensionality\u001b[0m\u001b[1;33m\u001b[0m\u001b[1;33m\u001b[0m\u001b[0m\n",
      "\u001b[1;32mC:\\ProgramData\\Anaconda3\\lib\\site-packages\\pandas\\core\\generic.py\u001b[0m in \u001b[0;36m_get_item_cache\u001b[1;34m(self, item)\u001b[0m\n\u001b[0;32m   2484\u001b[0m         \u001b[0mres\u001b[0m \u001b[1;33m=\u001b[0m \u001b[0mcache\u001b[0m\u001b[1;33m.\u001b[0m\u001b[0mget\u001b[0m\u001b[1;33m(\u001b[0m\u001b[0mitem\u001b[0m\u001b[1;33m)\u001b[0m\u001b[1;33m\u001b[0m\u001b[0m\n\u001b[0;32m   2485\u001b[0m         \u001b[1;32mif\u001b[0m \u001b[0mres\u001b[0m \u001b[1;32mis\u001b[0m \u001b[1;32mNone\u001b[0m\u001b[1;33m:\u001b[0m\u001b[1;33m\u001b[0m\u001b[0m\n\u001b[1;32m-> 2486\u001b[1;33m             \u001b[0mvalues\u001b[0m \u001b[1;33m=\u001b[0m \u001b[0mself\u001b[0m\u001b[1;33m.\u001b[0m\u001b[0m_data\u001b[0m\u001b[1;33m.\u001b[0m\u001b[0mget\u001b[0m\u001b[1;33m(\u001b[0m\u001b[0mitem\u001b[0m\u001b[1;33m)\u001b[0m\u001b[1;33m\u001b[0m\u001b[0m\n\u001b[0m\u001b[0;32m   2487\u001b[0m             \u001b[0mres\u001b[0m \u001b[1;33m=\u001b[0m \u001b[0mself\u001b[0m\u001b[1;33m.\u001b[0m\u001b[0m_box_item_values\u001b[0m\u001b[1;33m(\u001b[0m\u001b[0mitem\u001b[0m\u001b[1;33m,\u001b[0m \u001b[0mvalues\u001b[0m\u001b[1;33m)\u001b[0m\u001b[1;33m\u001b[0m\u001b[0m\n\u001b[0;32m   2488\u001b[0m             \u001b[0mcache\u001b[0m\u001b[1;33m[\u001b[0m\u001b[0mitem\u001b[0m\u001b[1;33m]\u001b[0m \u001b[1;33m=\u001b[0m \u001b[0mres\u001b[0m\u001b[1;33m\u001b[0m\u001b[0m\n",
      "\u001b[1;32mC:\\ProgramData\\Anaconda3\\lib\\site-packages\\pandas\\core\\internals.py\u001b[0m in \u001b[0;36mget\u001b[1;34m(self, item, fastpath)\u001b[0m\n\u001b[0;32m   4113\u001b[0m \u001b[1;33m\u001b[0m\u001b[0m\n\u001b[0;32m   4114\u001b[0m             \u001b[1;32mif\u001b[0m \u001b[1;32mnot\u001b[0m \u001b[0misna\u001b[0m\u001b[1;33m(\u001b[0m\u001b[0mitem\u001b[0m\u001b[1;33m)\u001b[0m\u001b[1;33m:\u001b[0m\u001b[1;33m\u001b[0m\u001b[0m\n\u001b[1;32m-> 4115\u001b[1;33m                 \u001b[0mloc\u001b[0m \u001b[1;33m=\u001b[0m \u001b[0mself\u001b[0m\u001b[1;33m.\u001b[0m\u001b[0mitems\u001b[0m\u001b[1;33m.\u001b[0m\u001b[0mget_loc\u001b[0m\u001b[1;33m(\u001b[0m\u001b[0mitem\u001b[0m\u001b[1;33m)\u001b[0m\u001b[1;33m\u001b[0m\u001b[0m\n\u001b[0m\u001b[0;32m   4116\u001b[0m             \u001b[1;32melse\u001b[0m\u001b[1;33m:\u001b[0m\u001b[1;33m\u001b[0m\u001b[0m\n\u001b[0;32m   4117\u001b[0m                 \u001b[0mindexer\u001b[0m \u001b[1;33m=\u001b[0m \u001b[0mnp\u001b[0m\u001b[1;33m.\u001b[0m\u001b[0marange\u001b[0m\u001b[1;33m(\u001b[0m\u001b[0mlen\u001b[0m\u001b[1;33m(\u001b[0m\u001b[0mself\u001b[0m\u001b[1;33m.\u001b[0m\u001b[0mitems\u001b[0m\u001b[1;33m)\u001b[0m\u001b[1;33m)\u001b[0m\u001b[1;33m[\u001b[0m\u001b[0misna\u001b[0m\u001b[1;33m(\u001b[0m\u001b[0mself\u001b[0m\u001b[1;33m.\u001b[0m\u001b[0mitems\u001b[0m\u001b[1;33m)\u001b[0m\u001b[1;33m]\u001b[0m\u001b[1;33m\u001b[0m\u001b[0m\n",
      "\u001b[1;32mC:\\ProgramData\\Anaconda3\\lib\\site-packages\\pandas\\core\\indexes\\base.py\u001b[0m in \u001b[0;36mget_loc\u001b[1;34m(self, key, method, tolerance)\u001b[0m\n\u001b[0;32m   3063\u001b[0m                 \u001b[1;32mreturn\u001b[0m \u001b[0mself\u001b[0m\u001b[1;33m.\u001b[0m\u001b[0m_engine\u001b[0m\u001b[1;33m.\u001b[0m\u001b[0mget_loc\u001b[0m\u001b[1;33m(\u001b[0m\u001b[0mkey\u001b[0m\u001b[1;33m)\u001b[0m\u001b[1;33m\u001b[0m\u001b[0m\n\u001b[0;32m   3064\u001b[0m             \u001b[1;32mexcept\u001b[0m \u001b[0mKeyError\u001b[0m\u001b[1;33m:\u001b[0m\u001b[1;33m\u001b[0m\u001b[0m\n\u001b[1;32m-> 3065\u001b[1;33m                 \u001b[1;32mreturn\u001b[0m \u001b[0mself\u001b[0m\u001b[1;33m.\u001b[0m\u001b[0m_engine\u001b[0m\u001b[1;33m.\u001b[0m\u001b[0mget_loc\u001b[0m\u001b[1;33m(\u001b[0m\u001b[0mself\u001b[0m\u001b[1;33m.\u001b[0m\u001b[0m_maybe_cast_indexer\u001b[0m\u001b[1;33m(\u001b[0m\u001b[0mkey\u001b[0m\u001b[1;33m)\u001b[0m\u001b[1;33m)\u001b[0m\u001b[1;33m\u001b[0m\u001b[0m\n\u001b[0m\u001b[0;32m   3066\u001b[0m \u001b[1;33m\u001b[0m\u001b[0m\n\u001b[0;32m   3067\u001b[0m         \u001b[0mindexer\u001b[0m \u001b[1;33m=\u001b[0m \u001b[0mself\u001b[0m\u001b[1;33m.\u001b[0m\u001b[0mget_indexer\u001b[0m\u001b[1;33m(\u001b[0m\u001b[1;33m[\u001b[0m\u001b[0mkey\u001b[0m\u001b[1;33m]\u001b[0m\u001b[1;33m,\u001b[0m \u001b[0mmethod\u001b[0m\u001b[1;33m=\u001b[0m\u001b[0mmethod\u001b[0m\u001b[1;33m,\u001b[0m \u001b[0mtolerance\u001b[0m\u001b[1;33m=\u001b[0m\u001b[0mtolerance\u001b[0m\u001b[1;33m)\u001b[0m\u001b[1;33m\u001b[0m\u001b[0m\n",
      "\u001b[1;32mpandas\\_libs\\index.pyx\u001b[0m in \u001b[0;36mpandas._libs.index.IndexEngine.get_loc\u001b[1;34m()\u001b[0m\n",
      "\u001b[1;32mpandas\\_libs\\index.pyx\u001b[0m in \u001b[0;36mpandas._libs.index.IndexEngine.get_loc\u001b[1;34m()\u001b[0m\n",
      "\u001b[1;32mpandas\\_libs\\hashtable_class_helper.pxi\u001b[0m in \u001b[0;36mpandas._libs.hashtable.PyObjectHashTable.get_item\u001b[1;34m()\u001b[0m\n",
      "\u001b[1;32mpandas\\_libs\\hashtable_class_helper.pxi\u001b[0m in \u001b[0;36mpandas._libs.hashtable.PyObjectHashTable.get_item\u001b[1;34m()\u001b[0m\n",
      "\u001b[1;31mKeyError\u001b[0m: 'AvgGlucose'"
     ]
    }
   ],
   "source": [
    "# 6) Look at Count of Risk by Average Glucose (color = risk level) \n",
    "\n",
    "# sns.set_style('whitegrid')\n",
    "# ax = sns.countplot(x='AvgGlucose',hue='Risk',data=allDataClean,palette='Set1')\n",
    "\n",
    "allDataClean[allDataClean['Risk']=='low']['AvgGlucose'].hist(alpha=0.65,color='blue',\n",
    "                                              bins=30,label='low risk')\n",
    "allDataClean[allDataClean['Risk']=='high']['AvgGlucose'].hist(alpha=0.7,color='red',\n",
    "                                              bins=30,label='high risk')\n",
    "# plt.legend()\n",
    "# plt.xlabel('AvgGlucose')\n",
    "\n",
    "# create more meaningful Glucose groupings: \"notHighAvgGlucose\" = 0-150 and \"highAvgGlucose\" = 150-300\n",
    "bins = [0, 150, 300]\n",
    "labels = ['0-150', '150-300']\n",
    "allDataClean['binnedAvgGlucose'] = pd.cut(allDataClean['AvgGlucose'], bins=bins, labels=labels)\n",
    "\n",
    "# # view count of risk by new groups (color = risk)\n",
    "sns.set_style('whitegrid')\n",
    "ax = sns.countplot(x='binnedAvgGlucose',hue='Risk',data=allDataClean,palette='Set1')\n",
    "\n",
    "# # drop old AvgGlucose column\n",
    "allDataClean = allDataClean.drop(['AvgGlucose'], axis=1)"
   ]
  },
  {
   "cell_type": "code",
   "execution_count": 237,
   "metadata": {},
   "outputs": [
    {
     "data": {
      "image/png": "[encoded data removed]",
      "text/plain": [
       "<Figure size 432x288 with 1 Axes>"
      ]
     },
     "metadata": {},
     "output_type": "display_data"
    }
   ],
   "source": [
    "# 7) Look at Count of Risk by BMI (color = risk)\n",
    "# sns.set_style('whitegrid')\n",
    "# ax = sns.countplot(x='BMI',hue='Risk',data=allDataClean,palette='Set1')\n",
    "\n",
    "# create more meaningful BMI groupings\n",
    "bins = [0, 20, 25, 30, 40, 50, 100]\n",
    "labels = ['0-20', '20-25', '25-30', '30-40', '40-50', '50-100']\n",
    "allDataClean['binnedBMI'] = pd.cut(allDataClean['BMI'], bins=bins, labels=labels)\n",
    "\n",
    "# # view count of risk by new groups (color = risk)\n",
    "sns.set_style('whitegrid')\n",
    "ax = sns.countplot(x='binnedBMI',hue='Risk',data=allDataClean,palette='Set1')\n",
    "\n",
    "# drop old BMI column\n",
    "allDataClean = allDataClean.drop(['BMI'], axis=1)"
   ]
  },
  {
   "cell_type": "markdown",
   "metadata": {},
   "source": [
    "#### Based on Steps 1-4 we have an understanding of what the data looks like and what we would hypothesize to be the most important features to include. "
   ]
  },
  {
   "cell_type": "markdown",
   "metadata": {},
   "source": [
    "#### Next, we will build a decision tree and random forest in order to numerically observe the most important features."
   ]
  },
  {
   "cell_type": "markdown",
   "metadata": {},
   "source": [
    "#### Step5: Transform Categorical Features into Numeric"
   ]
  },
  {
   "cell_type": "code",
   "execution_count": 238,
   "metadata": {},
   "outputs": [
    {
     "name": "stdout",
     "output_type": "stream",
     "text": [
      "<class 'pandas.core.frame.DataFrame'>\n",
      "Int64Index: 43212 entries, 0 to 43399\n",
      "Data columns (total 8 columns):\n",
      "Gender              43212 non-null object\n",
      "EverMarried         43212 non-null object\n",
      "WorkType            43212 non-null object\n",
      "ResidenceType       43212 non-null object\n",
      "Risk                43212 non-null object\n",
      "binnedAge           43212 non-null category\n",
      "binnedAvgGlucose    43212 non-null category\n",
      "binnedBMI           43212 non-null category\n",
      "dtypes: category(3), object(5)\n",
      "memory usage: 3.4+ MB\n"
     ]
    }
   ],
   "source": [
    "# view dataset information again\n",
    "allDataClean.info() \n",
    "# observe that 4 variables are categorical \n",
    "# and need to be converted into meaningful numbers."
   ]
  },
  {
   "cell_type": "code",
   "execution_count": 239,
   "metadata": {},
   "outputs": [
    {
     "data": {
      "text/html": [
       "<div>\n",
       "<style scoped>\n",
       "    .dataframe tbody tr th:only-of-type {\n",
       "        vertical-align: middle;\n",
       "    }\n",
       "\n",
       "    .dataframe tbody tr th {\n",
       "        vertical-align: top;\n",
       "    }\n",
       "\n",
       "    .dataframe thead th {\n",
       "        text-align: right;\n",
       "    }\n",
       "</style>\n",
       "<table border=\"1\" class=\"dataframe\">\n",
       "  <thead>\n",
       "    <tr style=\"text-align: right;\">\n",
       "      <th></th>\n",
       "      <th>Gender_Male</th>\n",
       "      <th>EverMarried_Yes</th>\n",
       "      <th>WorkType_Private</th>\n",
       "      <th>WorkType_Self-employed</th>\n",
       "      <th>WorkType_children</th>\n",
       "      <th>binnedAge_20-40</th>\n",
       "      <th>binnedAge_40-60</th>\n",
       "      <th>binnedAge_60-100</th>\n",
       "      <th>binnedAvgGlucose_150-300</th>\n",
       "      <th>binnedBMI_20-25</th>\n",
       "      <th>binnedBMI_25-30</th>\n",
       "      <th>binnedBMI_30-40</th>\n",
       "      <th>binnedBMI_40-50</th>\n",
       "      <th>binnedBMI_50-100</th>\n",
       "      <th>Risk_low</th>\n",
       "      <th>ResidenceType_Urban</th>\n",
       "    </tr>\n",
       "  </thead>\n",
       "  <tbody>\n",
       "    <tr>\n",
       "      <th>0</th>\n",
       "      <td>1</td>\n",
       "      <td>1</td>\n",
       "      <td>1</td>\n",
       "      <td>0</td>\n",
       "      <td>0</td>\n",
       "      <td>0</td>\n",
       "      <td>0</td>\n",
       "      <td>1</td>\n",
       "      <td>0</td>\n",
       "      <td>0</td>\n",
       "      <td>1</td>\n",
       "      <td>0</td>\n",
       "      <td>0</td>\n",
       "      <td>0</td>\n",
       "      <td>0</td>\n",
       "      <td>0</td>\n",
       "    </tr>\n",
       "    <tr>\n",
       "      <th>1</th>\n",
       "      <td>0</td>\n",
       "      <td>0</td>\n",
       "      <td>1</td>\n",
       "      <td>0</td>\n",
       "      <td>0</td>\n",
       "      <td>0</td>\n",
       "      <td>0</td>\n",
       "      <td>1</td>\n",
       "      <td>0</td>\n",
       "      <td>0</td>\n",
       "      <td>1</td>\n",
       "      <td>0</td>\n",
       "      <td>0</td>\n",
       "      <td>0</td>\n",
       "      <td>0</td>\n",
       "      <td>0</td>\n",
       "    </tr>\n",
       "    <tr>\n",
       "      <th>2</th>\n",
       "      <td>1</td>\n",
       "      <td>0</td>\n",
       "      <td>0</td>\n",
       "      <td>0</td>\n",
       "      <td>0</td>\n",
       "      <td>0</td>\n",
       "      <td>0</td>\n",
       "      <td>1</td>\n",
       "      <td>1</td>\n",
       "      <td>0</td>\n",
       "      <td>0</td>\n",
       "      <td>1</td>\n",
       "      <td>0</td>\n",
       "      <td>0</td>\n",
       "      <td>0</td>\n",
       "      <td>0</td>\n",
       "    </tr>\n",
       "    <tr>\n",
       "      <th>3</th>\n",
       "      <td>0</td>\n",
       "      <td>0</td>\n",
       "      <td>0</td>\n",
       "      <td>1</td>\n",
       "      <td>0</td>\n",
       "      <td>0</td>\n",
       "      <td>0</td>\n",
       "      <td>1</td>\n",
       "      <td>0</td>\n",
       "      <td>0</td>\n",
       "      <td>0</td>\n",
       "      <td>1</td>\n",
       "      <td>0</td>\n",
       "      <td>0</td>\n",
       "      <td>0</td>\n",
       "      <td>1</td>\n",
       "    </tr>\n",
       "    <tr>\n",
       "      <th>4</th>\n",
       "      <td>0</td>\n",
       "      <td>0</td>\n",
       "      <td>0</td>\n",
       "      <td>1</td>\n",
       "      <td>0</td>\n",
       "      <td>0</td>\n",
       "      <td>0</td>\n",
       "      <td>1</td>\n",
       "      <td>0</td>\n",
       "      <td>0</td>\n",
       "      <td>1</td>\n",
       "      <td>0</td>\n",
       "      <td>0</td>\n",
       "      <td>0</td>\n",
       "      <td>0</td>\n",
       "      <td>0</td>\n",
       "    </tr>\n",
       "  </tbody>\n",
       "</table>\n",
       "</div>"
      ],
      "text/plain": [
       "   Gender_Male  EverMarried_Yes  WorkType_Private  WorkType_Self-employed  \\\n",
       "0            1                1                 1                       0   \n",
       "1            0                0                 1                       0   \n",
       "2            1                0                 0                       0   \n",
       "3            0                0                 0                       1   \n",
       "4            0                0                 0                       1   \n",
       "\n",
       "   WorkType_children  binnedAge_20-40  binnedAge_40-60  binnedAge_60-100  \\\n",
       "0                  0                0                0                 1   \n",
       "1                  0                0                0                 1   \n",
       "2                  0                0                0                 1   \n",
       "3                  0                0                0                 1   \n",
       "4                  0                0                0                 1   \n",
       "\n",
       "   binnedAvgGlucose_150-300  binnedBMI_20-25  binnedBMI_25-30  \\\n",
       "0                         0                0                1   \n",
       "1                         0                0                1   \n",
       "2                         1                0                0   \n",
       "3                         0                0                0   \n",
       "4                         0                0                1   \n",
       "\n",
       "   binnedBMI_30-40  binnedBMI_40-50  binnedBMI_50-100  Risk_low  \\\n",
       "0                0                0                 0         0   \n",
       "1                0                0                 0         0   \n",
       "2                1                0                 0         0   \n",
       "3                1                0                 0         0   \n",
       "4                0                0                 0         0   \n",
       "\n",
       "   ResidenceType_Urban  \n",
       "0                    0  \n",
       "1                    0  \n",
       "2                    0  \n",
       "3                    1  \n",
       "4                    0  "
      ]
     },
     "execution_count": 239,
     "metadata": {},
     "output_type": "execute_result"
    }
   ],
   "source": [
    "# Convert categorical data to numbers using binary encoding \n",
    "# encode multiple columns using get_dummies (automatically detects if continuous)\n",
    "allDataEncoded = allDataClean.copy()\n",
    "\n",
    "# encode gender\n",
    "genderFeatures = ['Gender']\n",
    "allDataEncoded = pd.get_dummies(allDataClean,columns=genderFeatures,drop_first=True)\n",
    "\n",
    "# then encode ever married\n",
    "marriedFeatures = ['EverMarried']\n",
    "allDataEncoded2 = pd.get_dummies(allDataEncoded,columns=marriedFeatures,drop_first=True)\n",
    "\n",
    "# then encode work\n",
    "workFeatures = ['WorkType']\n",
    "allDataEncoded3 = pd.get_dummies(allDataEncoded2,columns=workFeatures,drop_first=True)\n",
    "\n",
    "# then encode age\n",
    "ageFeatures = ['binnedAge']\n",
    "allDataEncoded4 = pd.get_dummies(allDataEncoded3,columns=ageFeatures,drop_first=True)\n",
    "\n",
    "# # then encode glucose\n",
    "glucoseFeatures = ['binnedAvgGlucose']\n",
    "allDataEncoded5 = pd.get_dummies(allDataEncoded4,columns=glucoseFeatures,drop_first=True)\n",
    "\n",
    "# # then encode bmi\n",
    "bmiFeatures = ['binnedBMI']\n",
    "allDataEncoded6 = pd.get_dummies(allDataEncoded5,columns=bmiFeatures,drop_first=True)\n",
    "\n",
    "# encode risk\n",
    "encodeRisk = ['Risk']\n",
    "allDataEncoded8 = pd.get_dummies(allDataEncoded6,columns=encodeRisk,drop_first=True)\n",
    "\n",
    "# encode res type\n",
    "encodeRes = ['ResidenceType']\n",
    "allDataEncoded7 = pd.get_dummies(allDataEncoded8,columns=encodeRes,drop_first=True)\n",
    "\n",
    "allDataEncoded7.head()"
   ]
  },
  {
   "cell_type": "code",
   "execution_count": 240,
   "metadata": {},
   "outputs": [
    {
     "data": {
      "text/html": [
       "<div>\n",
       "<style scoped>\n",
       "    .dataframe tbody tr th:only-of-type {\n",
       "        vertical-align: middle;\n",
       "    }\n",
       "\n",
       "    .dataframe tbody tr th {\n",
       "        vertical-align: top;\n",
       "    }\n",
       "\n",
       "    .dataframe thead th {\n",
       "        text-align: right;\n",
       "    }\n",
       "</style>\n",
       "<table border=\"1\" class=\"dataframe\">\n",
       "  <thead>\n",
       "    <tr style=\"text-align: right;\">\n",
       "      <th></th>\n",
       "      <th>Gender_Male</th>\n",
       "      <th>EverMarried_Yes</th>\n",
       "      <th>WorkType_Private</th>\n",
       "      <th>WorkType_Self-employed</th>\n",
       "      <th>WorkType_children</th>\n",
       "      <th>binnedAge_20-40</th>\n",
       "      <th>binnedAge_40-60</th>\n",
       "      <th>binnedAge_60-100</th>\n",
       "      <th>binnedAvgGlucose_150-300</th>\n",
       "      <th>binnedBMI_20-25</th>\n",
       "      <th>binnedBMI_25-30</th>\n",
       "      <th>binnedBMI_30-40</th>\n",
       "      <th>binnedBMI_40-50</th>\n",
       "      <th>binnedBMI_50-100</th>\n",
       "      <th>Risk_low</th>\n",
       "      <th>ResidenceType_Urban</th>\n",
       "    </tr>\n",
       "  </thead>\n",
       "  <tbody>\n",
       "    <tr>\n",
       "      <th>count</th>\n",
       "      <td>43212.000000</td>\n",
       "      <td>43212.000000</td>\n",
       "      <td>43212.000000</td>\n",
       "      <td>43212.000000</td>\n",
       "      <td>43212.000000</td>\n",
       "      <td>43212.000000</td>\n",
       "      <td>43212.000000</td>\n",
       "      <td>43212.000000</td>\n",
       "      <td>43212.000000</td>\n",
       "      <td>43212.000000</td>\n",
       "      <td>43212.000000</td>\n",
       "      <td>43212.000000</td>\n",
       "      <td>43212.000000</td>\n",
       "      <td>43212.000000</td>\n",
       "      <td>43212.000000</td>\n",
       "      <td>43212.000000</td>\n",
       "    </tr>\n",
       "    <tr>\n",
       "      <th>mean</th>\n",
       "      <td>0.408405</td>\n",
       "      <td>0.646256</td>\n",
       "      <td>0.574539</td>\n",
       "      <td>0.157202</td>\n",
       "      <td>0.142414</td>\n",
       "      <td>0.248079</td>\n",
       "      <td>0.303735</td>\n",
       "      <td>0.243219</td>\n",
       "      <td>0.129455</td>\n",
       "      <td>0.215311</td>\n",
       "      <td>0.303943</td>\n",
       "      <td>0.289133</td>\n",
       "      <td>0.061719</td>\n",
       "      <td>0.013330</td>\n",
       "      <td>0.859645</td>\n",
       "      <td>0.501203</td>\n",
       "    </tr>\n",
       "    <tr>\n",
       "      <th>std</th>\n",
       "      <td>0.491544</td>\n",
       "      <td>0.478137</td>\n",
       "      <td>0.494418</td>\n",
       "      <td>0.363995</td>\n",
       "      <td>0.349478</td>\n",
       "      <td>0.431903</td>\n",
       "      <td>0.459875</td>\n",
       "      <td>0.429031</td>\n",
       "      <td>0.335706</td>\n",
       "      <td>0.411042</td>\n",
       "      <td>0.459964</td>\n",
       "      <td>0.453365</td>\n",
       "      <td>0.240647</td>\n",
       "      <td>0.114683</td>\n",
       "      <td>0.347359</td>\n",
       "      <td>0.500004</td>\n",
       "    </tr>\n",
       "    <tr>\n",
       "      <th>min</th>\n",
       "      <td>0.000000</td>\n",
       "      <td>0.000000</td>\n",
       "      <td>0.000000</td>\n",
       "      <td>0.000000</td>\n",
       "      <td>0.000000</td>\n",
       "      <td>0.000000</td>\n",
       "      <td>0.000000</td>\n",
       "      <td>0.000000</td>\n",
       "      <td>0.000000</td>\n",
       "      <td>0.000000</td>\n",
       "      <td>0.000000</td>\n",
       "      <td>0.000000</td>\n",
       "      <td>0.000000</td>\n",
       "      <td>0.000000</td>\n",
       "      <td>0.000000</td>\n",
       "      <td>0.000000</td>\n",
       "    </tr>\n",
       "    <tr>\n",
       "      <th>25%</th>\n",
       "      <td>0.000000</td>\n",
       "      <td>0.000000</td>\n",
       "      <td>0.000000</td>\n",
       "      <td>0.000000</td>\n",
       "      <td>0.000000</td>\n",
       "      <td>0.000000</td>\n",
       "      <td>0.000000</td>\n",
       "      <td>0.000000</td>\n",
       "      <td>0.000000</td>\n",
       "      <td>0.000000</td>\n",
       "      <td>0.000000</td>\n",
       "      <td>0.000000</td>\n",
       "      <td>0.000000</td>\n",
       "      <td>0.000000</td>\n",
       "      <td>1.000000</td>\n",
       "      <td>0.000000</td>\n",
       "    </tr>\n",
       "    <tr>\n",
       "      <th>50%</th>\n",
       "      <td>0.000000</td>\n",
       "      <td>1.000000</td>\n",
       "      <td>1.000000</td>\n",
       "      <td>0.000000</td>\n",
       "      <td>0.000000</td>\n",
       "      <td>0.000000</td>\n",
       "      <td>0.000000</td>\n",
       "      <td>0.000000</td>\n",
       "      <td>0.000000</td>\n",
       "      <td>0.000000</td>\n",
       "      <td>0.000000</td>\n",
       "      <td>0.000000</td>\n",
       "      <td>0.000000</td>\n",
       "      <td>0.000000</td>\n",
       "      <td>1.000000</td>\n",
       "      <td>1.000000</td>\n",
       "    </tr>\n",
       "    <tr>\n",
       "      <th>75%</th>\n",
       "      <td>1.000000</td>\n",
       "      <td>1.000000</td>\n",
       "      <td>1.000000</td>\n",
       "      <td>0.000000</td>\n",
       "      <td>0.000000</td>\n",
       "      <td>0.000000</td>\n",
       "      <td>1.000000</td>\n",
       "      <td>0.000000</td>\n",
       "      <td>0.000000</td>\n",
       "      <td>0.000000</td>\n",
       "      <td>1.000000</td>\n",
       "      <td>1.000000</td>\n",
       "      <td>0.000000</td>\n",
       "      <td>0.000000</td>\n",
       "      <td>1.000000</td>\n",
       "      <td>1.000000</td>\n",
       "    </tr>\n",
       "    <tr>\n",
       "      <th>max</th>\n",
       "      <td>1.000000</td>\n",
       "      <td>1.000000</td>\n",
       "      <td>1.000000</td>\n",
       "      <td>1.000000</td>\n",
       "      <td>1.000000</td>\n",
       "      <td>1.000000</td>\n",
       "      <td>1.000000</td>\n",
       "      <td>1.000000</td>\n",
       "      <td>1.000000</td>\n",
       "      <td>1.000000</td>\n",
       "      <td>1.000000</td>\n",
       "      <td>1.000000</td>\n",
       "      <td>1.000000</td>\n",
       "      <td>1.000000</td>\n",
       "      <td>1.000000</td>\n",
       "      <td>1.000000</td>\n",
       "    </tr>\n",
       "  </tbody>\n",
       "</table>\n",
       "</div>"
      ],
      "text/plain": [
       "        Gender_Male  EverMarried_Yes  WorkType_Private  \\\n",
       "count  43212.000000     43212.000000      43212.000000   \n",
       "mean       0.408405         0.646256          0.574539   \n",
       "std        0.491544         0.478137          0.494418   \n",
       "min        0.000000         0.000000          0.000000   \n",
       "25%        0.000000         0.000000          0.000000   \n",
       "50%        0.000000         1.000000          1.000000   \n",
       "75%        1.000000         1.000000          1.000000   \n",
       "max        1.000000         1.000000          1.000000   \n",
       "\n",
       "       WorkType_Self-employed  WorkType_children  binnedAge_20-40  \\\n",
       "count            43212.000000       43212.000000     43212.000000   \n",
       "mean                 0.157202           0.142414         0.248079   \n",
       "std                  0.363995           0.349478         0.431903   \n",
       "min                  0.000000           0.000000         0.000000   \n",
       "25%                  0.000000           0.000000         0.000000   \n",
       "50%                  0.000000           0.000000         0.000000   \n",
       "75%                  0.000000           0.000000         0.000000   \n",
       "max                  1.000000           1.000000         1.000000   \n",
       "\n",
       "       binnedAge_40-60  binnedAge_60-100  binnedAvgGlucose_150-300  \\\n",
       "count     43212.000000      43212.000000              43212.000000   \n",
       "mean          0.303735          0.243219                  0.129455   \n",
       "std           0.459875          0.429031                  0.335706   \n",
       "min           0.000000          0.000000                  0.000000   \n",
       "25%           0.000000          0.000000                  0.000000   \n",
       "50%           0.000000          0.000000                  0.000000   \n",
       "75%           1.000000          0.000000                  0.000000   \n",
       "max           1.000000          1.000000                  1.000000   \n",
       "\n",
       "       binnedBMI_20-25  binnedBMI_25-30  binnedBMI_30-40  binnedBMI_40-50  \\\n",
       "count     43212.000000     43212.000000     43212.000000     43212.000000   \n",
       "mean          0.215311         0.303943         0.289133         0.061719   \n",
       "std           0.411042         0.459964         0.453365         0.240647   \n",
       "min           0.000000         0.000000         0.000000         0.000000   \n",
       "25%           0.000000         0.000000         0.000000         0.000000   \n",
       "50%           0.000000         0.000000         0.000000         0.000000   \n",
       "75%           0.000000         1.000000         1.000000         0.000000   \n",
       "max           1.000000         1.000000         1.000000         1.000000   \n",
       "\n",
       "       binnedBMI_50-100      Risk_low  ResidenceType_Urban  \n",
       "count      43212.000000  43212.000000         43212.000000  \n",
       "mean           0.013330      0.859645             0.501203  \n",
       "std            0.114683      0.347359             0.500004  \n",
       "min            0.000000      0.000000             0.000000  \n",
       "25%            0.000000      1.000000             0.000000  \n",
       "50%            0.000000      1.000000             1.000000  \n",
       "75%            0.000000      1.000000             1.000000  \n",
       "max            1.000000      1.000000             1.000000  "
      ]
     },
     "execution_count": 240,
     "metadata": {},
     "output_type": "execute_result"
    }
   ],
   "source": [
    "# observe descriptive statistics related to new dummy variables\n",
    "allDataEncoded7.describe()"
   ]
  },
  {
   "cell_type": "markdown",
   "metadata": {},
   "source": [
    "#### Step6: Split data into training set and testing set"
   ]
  },
  {
   "cell_type": "code",
   "execution_count": 241,
   "metadata": {},
   "outputs": [],
   "source": [
    "from sklearn.model_selection import train_test_split"
   ]
  },
  {
   "cell_type": "code",
   "execution_count": 242,
   "metadata": {},
   "outputs": [],
   "source": [
    "X = allDataEncoded7.drop('Risk_low',axis=1)\n",
    "y = allDataEncoded7['Risk_low']\n",
    "X_train, X_test, y_train, y_test = train_test_split(X, y, random_state=71, stratify=y)"
   ]
  },
  {
   "cell_type": "code",
   "execution_count": 243,
   "metadata": {},
   "outputs": [
    {
     "name": "stderr",
     "output_type": "stream",
     "text": [
      "C:\\Users\\Cnellis\\AppData\\Roaming\\Python\\Python36\\site-packages\\sklearn\\preprocessing\\data.py:625: DataConversionWarning: Data with input dtype uint8 were all converted to float64 by StandardScaler.\n",
      "  return self.partial_fit(X, y)\n",
      "C:\\ProgramData\\Anaconda3\\lib\\site-packages\\ipykernel_launcher.py:4: DataConversionWarning: Data with input dtype uint8 were all converted to float64 by StandardScaler.\n",
      "  after removing the cwd from sys.path.\n",
      "C:\\ProgramData\\Anaconda3\\lib\\site-packages\\ipykernel_launcher.py:5: DataConversionWarning: Data with input dtype uint8 were all converted to float64 by StandardScaler.\n",
      "  \"\"\"\n"
     ]
    }
   ],
   "source": [
    "# normalize\n",
    "sds = StandardScaler()\n",
    "sds.fit(X_train)\n",
    "X_train = sds.transform(X_train)\n",
    "X_test = sds.transform(X_test)"
   ]
  },
  {
   "cell_type": "markdown",
   "metadata": {},
   "source": [
    "#### Step 7: train a decision tree model"
   ]
  },
  {
   "cell_type": "code",
   "execution_count": 244,
   "metadata": {
    "scrolled": true
   },
   "outputs": [
    {
     "data": {
      "text/plain": [
       "DecisionTreeClassifier(class_weight=None, criterion='gini', max_depth=None,\n",
       "            max_features=None, max_leaf_nodes=None,\n",
       "            min_impurity_decrease=0.0, min_impurity_split=None,\n",
       "            min_samples_leaf=1, min_samples_split=2,\n",
       "            min_weight_fraction_leaf=0.0, presort=False, random_state=None,\n",
       "            splitter='best')"
      ]
     },
     "execution_count": 244,
     "metadata": {},
     "output_type": "execute_result"
    }
   ],
   "source": [
    "# Import DecisionTreeClassifier\n",
    "from sklearn.tree import DecisionTreeClassifier\n",
    "\n",
    "# Create an instance of DecisionTreeClassifier() called dtree and fit it to the training data.\n",
    "dtree = DecisionTreeClassifier()\n",
    "dtree.fit(X_train,y_train)"
   ]
  },
  {
   "cell_type": "markdown",
   "metadata": {},
   "source": [
    "#### Step 8: predict and evaluate decision tree "
   ]
  },
  {
   "cell_type": "code",
   "execution_count": 245,
   "metadata": {},
   "outputs": [],
   "source": [
    "# create predictions from the test set\n",
    "predictions = dtree.predict(X_test)"
   ]
  },
  {
   "cell_type": "code",
   "execution_count": 246,
   "metadata": {},
   "outputs": [
    {
     "name": "stdout",
     "output_type": "stream",
     "text": [
      "              precision    recall  f1-score   support\n",
      "\n",
      "           0       0.44      0.10      0.16      1516\n",
      "           1       0.87      0.98      0.92      9287\n",
      "\n",
      "   micro avg       0.86      0.86      0.86     10803\n",
      "   macro avg       0.65      0.54      0.54     10803\n",
      "weighted avg       0.81      0.86      0.81     10803\n",
      "\n"
     ]
    }
   ],
   "source": [
    "# create a classification report and a coonfusion matrix\n",
    "from sklearn.metrics import classification_report,confusion_matrix\n",
    "print(classification_report(y_test,predictions))"
   ]
  },
  {
   "cell_type": "code",
   "execution_count": 247,
   "metadata": {},
   "outputs": [
    {
     "name": "stdout",
     "output_type": "stream",
     "text": [
      "[[ 145 1371]\n",
      " [ 184 9103]]\n"
     ]
    }
   ],
   "source": [
    "print(confusion_matrix(y_test,predictions))"
   ]
  },
  {
   "cell_type": "code",
   "execution_count": 248,
   "metadata": {},
   "outputs": [
    {
     "name": "stdout",
     "output_type": "stream",
     "text": [
      "Training Data Score: 0.8641118207905212\n",
      "Testing Data Score: 0.8560585022678886\n"
     ]
    }
   ],
   "source": [
    "print(f\"Training Data Score: {dtree.score(X_train, y_train)}\")\n",
    "print(f\"Testing Data Score: {dtree.score(X_test, y_test)}\")"
   ]
  },
  {
   "cell_type": "code",
   "execution_count": 249,
   "metadata": {},
   "outputs": [],
   "source": [
    "import os\n",
    "import time\n",
    "import sys\n",
    "\n",
    "# use decision tree to consider feature importance\n",
    "# for i in range(3):\n",
    "    \n",
    "#     t0 = time.time()\n",
    "#     clf = DecisionTreeClassifier()\n",
    "    \n",
    "#     clf.fit(X_train, y_train)\n",
    "#     t1 = time.time()\n",
    "    \n",
    "#     ypred = clf.predict(X_test)\n",
    "#     scores = roc_auc_score(y_test, ypred)\n",
    "    \n",
    "#     print(f\"Decision tree {i+1} took {t1-t0} seconds to train and got a score of {scores}\")\n",
    "#     print()\n",
    "#     print(\"And here are the top features: \")\n",
    "#     c = X.columns \n",
    "#     for cfi in zip(c, clf.feature_importances_):\n",
    "#         print(cfi)\n",
    "#     print()"
   ]
  },
  {
   "cell_type": "markdown",
   "metadata": {},
   "source": [
    "#### Step 9: Train a random forest model to evaluate potential features"
   ]
  },
  {
   "cell_type": "code",
   "execution_count": 250,
   "metadata": {},
   "outputs": [
    {
     "name": "stdout",
     "output_type": "stream",
     "text": [
      "                          importance\n",
      "binnedAge_60-100            0.320564\n",
      "binnedAvgGlucose_150-300    0.152601\n",
      "EverMarried_Yes             0.106218\n",
      "binnedAge_20-40             0.082675\n",
      "binnedAge_40-60             0.060984\n",
      "Gender_Male                 0.048310\n",
      "WorkType_Self-employed      0.040155\n",
      "ResidenceType_Urban         0.038387\n",
      "WorkType_children           0.034663\n",
      "WorkType_Private            0.029390\n",
      "binnedBMI_20-25             0.023123\n",
      "binnedBMI_25-30             0.017629\n",
      "binnedBMI_30-40             0.017448\n",
      "binnedBMI_40-50             0.016973\n",
      "binnedBMI_50-100            0.010881\n"
     ]
    }
   ],
   "source": [
    "# create an instance of the random forest classifer class \n",
    "from sklearn.ensemble import RandomForestClassifier\n",
    "rfc = RandomForestClassifier(n_estimators=600)\n",
    "rfc.fit(X_train,y_train)\n",
    "rfc.score(X_train,y_train)\n",
    "\n",
    "# create and sort feature importance\n",
    "importances = rfc.feature_importances_\n",
    "feature_importances = pd.DataFrame(rfc.feature_importances_, index = X.columns, columns=['importance']).sort_values('importance',ascending=False)\n",
    "print(feature_importances)"
   ]
  },
  {
   "cell_type": "markdown",
   "metadata": {},
   "source": [
    "#### Based on Steps 5-10, we can conclude that :\n",
    "\n",
    "#### Glucose, BMI, and Age appear are most useful in predicting cardiovascular risk,\n",
    "\n",
    "#### Marriage Status, residence type, and gender add some value, \n",
    "\n",
    "#### and work type is the least effective feature in cardiovascular risk prediction.\n"
   ]
  },
  {
   "cell_type": "markdown",
   "metadata": {},
   "source": [
    "####  Decide to keep only AvgGlucose, BMI, Age, Marriage Status, Residence Type, and Gender\n",
    "#### Step11: View relationships \n",
    "\n",
    "Reference: https://github.com/xr71/uncc-titanic-ml-inclass-demo/blob/master/titaniclearn.ipynb"
   ]
  },
  {
   "cell_type": "code",
   "execution_count": 256,
   "metadata": {},
   "outputs": [],
   "source": [
    "# look at univariate relationships"
   ]
  },
  {
   "cell_type": "code",
   "execution_count": 257,
   "metadata": {},
   "outputs": [],
   "source": [
    "# look at multi-variate relationships"
   ]
  },
  {
   "cell_type": "code",
   "execution_count": null,
   "metadata": {},
   "outputs": [],
   "source": [
    "# look at relationship between avgGlucose and risk\n",
    "# sns.regplot(x=\"AvgGlucose\", y=\"Risk_low\", data=allDataEncoded7, fit_reg=False, y_jitter=0.1)\n",
    "\n",
    "# look at relationship between BMI and risk\n",
    "# sns.regplot(x=\"BMI\", y=\"Risk_low\", data=allDataEncoded7, fit_reg=False, y_jitter=0.1)\n",
    "\n",
    "# look at relationship between age and risk\n",
    "# sns.regplot(x=\"Age\", y=\"Risk_low\", data=allDataEncoded7, fit_reg=False, y_jitter=0.1)\n",
    "\n",
    "# look at relationship between everMarried and risk\n",
    "# sns.regplot(x=\"EverMarried_Yes\", y=\"Risk_low\", data=allDataEncoded7, fit_reg=False, y_jitter=0.1)\n",
    "\n",
    "# look at relationship between ResidenceType_Urban and risk\n",
    "# sns.regplot(x=\"ResidenceType_Urban\", y=\"Risk_low\", data=allDataEncoded7, fit_reg=False, y_jitter=0.1)\n",
    "\n",
    "# look at relationship between gender and risk\n",
    "# sns.regplot(x=\"Gender_Male\", y=\"Risk_low\", data=allDataEncoded7, fit_reg=False, y_jitter=0.1)"
   ]
  },
  {
   "cell_type": "code",
   "execution_count": null,
   "metadata": {},
   "outputs": [],
   "source": [
    "sns.violinplot(x=\"Gender_Male\", y=\"Risk_low\", data=allDataEncoded7)"
   ]
  },
  {
   "cell_type": "code",
   "execution_count": null,
   "metadata": {},
   "outputs": [],
   "source": []
  },
  {
   "cell_type": "code",
   "execution_count": 251,
   "metadata": {},
   "outputs": [],
   "source": [
    "# Principal component analysis (PCA) provides dimensionality reduction. "
   ]
  },
  {
   "cell_type": "code",
   "execution_count": 252,
   "metadata": {},
   "outputs": [],
   "source": [
    "#########################################"
   ]
  },
  {
   "cell_type": "code",
   "execution_count": 253,
   "metadata": {},
   "outputs": [],
   "source": [
    "# Logistic Regression = used for binary classification"
   ]
  },
  {
   "cell_type": "code",
   "execution_count": 254,
   "metadata": {},
   "outputs": [],
   "source": [
    "# Random Forest is an ensemble of decision trees."
   ]
  },
  {
   "cell_type": "code",
   "execution_count": 255,
   "metadata": {},
   "outputs": [],
   "source": [
    "# SVC\n",
    "# Support Vector Machines"
   ]
  },
  {
   "cell_type": "code",
   "execution_count": null,
   "metadata": {},
   "outputs": [],
   "source": []
  },
  {
   "cell_type": "code",
   "execution_count": null,
   "metadata": {},
   "outputs": [],
   "source": []
  },
  {
   "cell_type": "code",
   "execution_count": null,
   "metadata": {},
   "outputs": [],
   "source": []
  },
  {
   "cell_type": "code",
   "execution_count": null,
   "metadata": {},
   "outputs": [],
   "source": []
  }
 ],
 "metadata": {
  "kernelspec": {
   "display_name": "Python 3",
   "language": "python",
   "name": "python3"
  },
  "language_info": {
   "codemirror_mode": {
    "name": "ipython",
    "version": 3
   },
   "file_extension": ".py",
   "mimetype": "text/x-python",
   "name": "python",
   "nbconvert_exporter": "python",
   "pygments_lexer": "ipython3",
   "version": "3.6.5"
  }
 },
 "nbformat": 4,
 "nbformat_minor": 1
}
