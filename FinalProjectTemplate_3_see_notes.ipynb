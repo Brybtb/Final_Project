{
 "cells": [
  {
   "cell_type": "markdown",
   "metadata": {},
   "source": [
    " "
   ]
  },
  {
   "cell_type": "markdown",
   "metadata": {},
   "source": [
    "## Part I: Data Cleaning and Exploration"
   ]
  },
  {
   "cell_type": "markdown",
   "metadata": {},
   "source": [
    "#### Step 1: import dependencies"
   ]
  },
  {
   "cell_type": "code",
   "execution_count": 1,
   "metadata": {},
   "outputs": [],
   "source": [
    "#import dependencies\n",
    "import pandas as pd\n",
    "import seaborn as sns\n",
    "import matplotlib.pyplot as plt\n",
    "%matplotlib inline\n",
    "import numpy as np\n",
    "\n",
    "from sklearn.linear_model import LogisticRegression\n",
    "from sklearn.tree import DecisionTreeClassifier\n",
    "from sklearn.ensemble import RandomForestClassifier\n",
    "from sklearn.svm import SVC\n",
    "from sklearn.preprocessing import StandardScaler\n",
    "from sklearn.model_selection import train_test_split, ShuffleSplit, GridSearchCV\n",
    "from sklearn.metrics import roc_auc_score, roc_curve, auc"
   ]
  },
  {
   "cell_type": "markdown",
   "metadata": {},
   "source": [
    "#### Step 2: read csv file and observe dataset (columns, shape, datatypes, missing values)"
   ]
  },
  {
   "cell_type": "code",
   "execution_count": 6,
   "metadata": {},
   "outputs": [
    {
     "data": {
      "text/html": [
       "<div>\n",
       "<style scoped>\n",
       "    .dataframe tbody tr th:only-of-type {\n",
       "        vertical-align: middle;\n",
       "    }\n",
       "\n",
       "    .dataframe tbody tr th {\n",
       "        vertical-align: top;\n",
       "    }\n",
       "\n",
       "    .dataframe thead th {\n",
       "        text-align: right;\n",
       "    }\n",
       "</style>\n",
       "<table border=\"1\" class=\"dataframe\">\n",
       "  <thead>\n",
       "    <tr style=\"text-align: right;\">\n",
       "      <th></th>\n",
       "      <th>ID</th>\n",
       "      <th>Gender</th>\n",
       "      <th>Age</th>\n",
       "      <th>EverMarried</th>\n",
       "      <th>WorkType</th>\n",
       "      <th>ResidenceType</th>\n",
       "      <th>AvgGlucose</th>\n",
       "      <th>BMI</th>\n",
       "      <th>SmokingStatus</th>\n",
       "      <th>Risk</th>\n",
       "    </tr>\n",
       "  </thead>\n",
       "  <tbody>\n",
       "    <tr>\n",
       "      <th>0</th>\n",
       "      <td>53882</td>\n",
       "      <td>Male</td>\n",
       "      <td>74.0</td>\n",
       "      <td>Yes</td>\n",
       "      <td>Private</td>\n",
       "      <td>Rural</td>\n",
       "      <td>70.09</td>\n",
       "      <td>27.4</td>\n",
       "      <td>never smoked</td>\n",
       "      <td>3</td>\n",
       "    </tr>\n",
       "    <tr>\n",
       "      <th>1</th>\n",
       "      <td>712</td>\n",
       "      <td>Female</td>\n",
       "      <td>82.0</td>\n",
       "      <td>No</td>\n",
       "      <td>Private</td>\n",
       "      <td>Rural</td>\n",
       "      <td>84.03</td>\n",
       "      <td>26.5</td>\n",
       "      <td>formerly smoked</td>\n",
       "      <td>3</td>\n",
       "    </tr>\n",
       "    <tr>\n",
       "      <th>2</th>\n",
       "      <td>53401</td>\n",
       "      <td>Male</td>\n",
       "      <td>71.0</td>\n",
       "      <td>No</td>\n",
       "      <td>Govt_job</td>\n",
       "      <td>Rural</td>\n",
       "      <td>216.94</td>\n",
       "      <td>30.9</td>\n",
       "      <td>never smoked</td>\n",
       "      <td>3</td>\n",
       "    </tr>\n",
       "    <tr>\n",
       "      <th>3</th>\n",
       "      <td>37651</td>\n",
       "      <td>Female</td>\n",
       "      <td>69.0</td>\n",
       "      <td>No</td>\n",
       "      <td>Self-employed</td>\n",
       "      <td>Urban</td>\n",
       "      <td>72.17</td>\n",
       "      <td>36.8</td>\n",
       "      <td>never smoked</td>\n",
       "      <td>3</td>\n",
       "    </tr>\n",
       "    <tr>\n",
       "      <th>4</th>\n",
       "      <td>60739</td>\n",
       "      <td>Female</td>\n",
       "      <td>79.0</td>\n",
       "      <td>No</td>\n",
       "      <td>Self-employed</td>\n",
       "      <td>Rural</td>\n",
       "      <td>60.94</td>\n",
       "      <td>NaN</td>\n",
       "      <td>never smoked</td>\n",
       "      <td>3</td>\n",
       "    </tr>\n",
       "  </tbody>\n",
       "</table>\n",
       "</div>"
      ],
      "text/plain": [
       "      ID  Gender   Age EverMarried       WorkType ResidenceType  AvgGlucose  \\\n",
       "0  53882    Male  74.0         Yes        Private         Rural       70.09   \n",
       "1    712  Female  82.0          No        Private         Rural       84.03   \n",
       "2  53401    Male  71.0          No       Govt_job         Rural      216.94   \n",
       "3  37651  Female  69.0          No  Self-employed         Urban       72.17   \n",
       "4  60739  Female  79.0          No  Self-employed         Rural       60.94   \n",
       "\n",
       "    BMI    SmokingStatus  Risk  \n",
       "0  27.4     never smoked     3  \n",
       "1  26.5  formerly smoked     3  \n",
       "2  30.9     never smoked     3  \n",
       "3  36.8     never smoked     3  \n",
       "4   NaN     never smoked     3  "
      ]
     },
     "execution_count": 6,
     "metadata": {},
     "output_type": "execute_result"
    }
   ],
   "source": [
    "# read the csv file into a pandas dataframe\n",
    "allDataClean = pd.read_csv(\"cardioRiskDataset.csv\",header=0)\n",
    "\n",
    "# preview dataset\n",
    "allDataClean.head()"
   ]
  },
  {
   "cell_type": "code",
   "execution_count": 7,
   "metadata": {},
   "outputs": [
    {
     "name": "stdout",
     "output_type": "stream",
     "text": [
      "<class 'pandas.core.frame.DataFrame'>\n",
      "RangeIndex: 43400 entries, 0 to 43399\n",
      "Data columns (total 9 columns):\n",
      "Gender           43400 non-null object\n",
      "Age              43400 non-null float64\n",
      "EverMarried      43400 non-null object\n",
      "WorkType         43400 non-null object\n",
      "ResidenceType    43400 non-null object\n",
      "AvgGlucose       43400 non-null float64\n",
      "BMI              41938 non-null float64\n",
      "SmokingStatus    30108 non-null object\n",
      "Risk             43400 non-null int64\n",
      "dtypes: float64(3), int64(1), object(5)\n",
      "memory usage: 3.0+ MB\n"
     ]
    }
   ],
   "source": [
    "# delete ID column because it won't be useful for machine learning\n",
    "del allDataClean[\"ID\"]\n",
    "\n",
    "# view dataset information - specifically datatypes\n",
    "allDataClean.info()\n",
    "\n",
    "# Notice that there are missing values in BMI and Smoking Status."
   ]
  },
  {
   "cell_type": "markdown",
   "metadata": {},
   "source": [
    "About 30% of the Smoking Status data is missing, because >10%, safe to delete it. <br>\n",
    "About 3% of the BMI data is missing, because less than 10% will impute it. <br>"
   ]
  },
  {
   "cell_type": "code",
   "execution_count": 8,
   "metadata": {},
   "outputs": [
    {
     "name": "stdout",
     "output_type": "stream",
     "text": [
      "<class 'pandas.core.frame.DataFrame'>\n",
      "RangeIndex: 43400 entries, 0 to 43399\n",
      "Data columns (total 8 columns):\n",
      "Gender           43400 non-null object\n",
      "Age              43400 non-null float64\n",
      "EverMarried      43400 non-null object\n",
      "WorkType         43400 non-null object\n",
      "ResidenceType    43400 non-null object\n",
      "AvgGlucose       43400 non-null float64\n",
      "BMI              43400 non-null float64\n",
      "Risk             43400 non-null int64\n",
      "dtypes: float64(3), int64(1), object(4)\n",
      "memory usage: 2.6+ MB\n"
     ]
    }
   ],
   "source": [
    "# remove Smoking Status column from dataframe\n",
    "del allDataClean[\"SmokingStatus\"]\n",
    "\n",
    "# Impute missing BMI Data\n",
    "from sklearn.preprocessing import Imputer\n",
    "imputer = Imputer(missing_values = 'NaN', strategy = 'mean', axis = 0)\n",
    "imputer = imputer.fit(allDataClean[[\"BMI\"]])\n",
    "allDataClean['BMI'] = imputer.transform(allDataClean[['BMI']]).ravel()\n",
    "\n",
    "allDataClean.info()"
   ]
  },
  {
   "cell_type": "markdown",
   "metadata": {},
   "source": [
    "#### Step 3: Explore target variable's (Risk) proportion in dataset"
   ]
  },
  {
   "cell_type": "code",
   "execution_count": 9,
   "metadata": {},
   "outputs": [
    {
     "data": {
      "text/plain": [
       "<matplotlib.axes._subplots.AxesSubplot at 0x206113fd358>"
      ]
     },
     "execution_count": 9,
     "metadata": {},
     "output_type": "execute_result"
    },
    {
     "data": {
      "image/png": "[encoded data removed]",
      "text/plain": [
       "<Figure size 432x288 with 1 Axes>"
      ]
     },
     "metadata": {},
     "output_type": "display_data"
    }
   ],
   "source": [
    "# view initial proportion of risk factor among population\n",
    "sns.set_style('whitegrid')\n",
    "sns.countplot(x='Risk',data=allDataClean,palette='RdBu_r')"
   ]
  },
  {
   "cell_type": "code",
   "execution_count": 10,
   "metadata": {},
   "outputs": [],
   "source": [
    "# To increase balance of higher risk to lower risk, will group risk levels 1, 2, and 3 together as high risk and 0 as low risk:\n",
    "allDataClean['Risk'] = allDataClean['Risk'].replace({0: 'low', 1: 'high', 2: 'high', 3: 'high'})"
   ]
  },
  {
   "cell_type": "code",
   "execution_count": 11,
   "metadata": {},
   "outputs": [
    {
     "data": {
      "text/plain": [
       "<matplotlib.axes._subplots.AxesSubplot at 0x2061160f6a0>"
      ]
     },
     "execution_count": 11,
     "metadata": {},
     "output_type": "execute_result"
    },
    {
     "data": {
      "image/png": "[encoded data removed]",
      "text/plain": [
       "<Figure size 432x288 with 1 Axes>"
      ]
     },
     "metadata": {},
     "output_type": "display_data"
    }
   ],
   "source": [
    "# Now, view new proportion of risk factor among population\n",
    "sns.set_style('whitegrid')\n",
    "sns.countplot(x='Risk',data=allDataClean,palette='Set1')"
   ]
  },
  {
   "cell_type": "code",
   "execution_count": 12,
   "metadata": {},
   "outputs": [
    {
     "data": {
      "text/html": [
       "<div>\n",
       "<style scoped>\n",
       "    .dataframe tbody tr th:only-of-type {\n",
       "        vertical-align: middle;\n",
       "    }\n",
       "\n",
       "    .dataframe tbody tr th {\n",
       "        vertical-align: top;\n",
       "    }\n",
       "\n",
       "    .dataframe thead th {\n",
       "        text-align: right;\n",
       "    }\n",
       "</style>\n",
       "<table border=\"1\" class=\"dataframe\">\n",
       "  <thead>\n",
       "    <tr style=\"text-align: right;\">\n",
       "      <th></th>\n",
       "      <th>Gender</th>\n",
       "      <th>Age</th>\n",
       "      <th>EverMarried</th>\n",
       "      <th>WorkType</th>\n",
       "      <th>ResidenceType</th>\n",
       "      <th>AvgGlucose</th>\n",
       "      <th>BMI</th>\n",
       "    </tr>\n",
       "    <tr>\n",
       "      <th>Risk</th>\n",
       "      <th></th>\n",
       "      <th></th>\n",
       "      <th></th>\n",
       "      <th></th>\n",
       "      <th></th>\n",
       "      <th></th>\n",
       "      <th></th>\n",
       "    </tr>\n",
       "  </thead>\n",
       "  <tbody>\n",
       "    <tr>\n",
       "      <th>high</th>\n",
       "      <td>6066</td>\n",
       "      <td>6066</td>\n",
       "      <td>6066</td>\n",
       "      <td>6066</td>\n",
       "      <td>6066</td>\n",
       "      <td>6066</td>\n",
       "      <td>6066</td>\n",
       "    </tr>\n",
       "    <tr>\n",
       "      <th>low</th>\n",
       "      <td>37334</td>\n",
       "      <td>37334</td>\n",
       "      <td>37334</td>\n",
       "      <td>37334</td>\n",
       "      <td>37334</td>\n",
       "      <td>37334</td>\n",
       "      <td>37334</td>\n",
       "    </tr>\n",
       "  </tbody>\n",
       "</table>\n",
       "</div>"
      ],
      "text/plain": [
       "      Gender    Age  EverMarried  WorkType  ResidenceType  AvgGlucose    BMI\n",
       "Risk                                                                        \n",
       "high    6066   6066         6066      6066           6066        6066   6066\n",
       "low    37334  37334        37334     37334          37334       37334  37334"
      ]
     },
     "execution_count": 12,
     "metadata": {},
     "output_type": "execute_result"
    }
   ],
   "source": [
    "allDataClean.groupby('Risk').count()"
   ]
  },
  {
   "cell_type": "markdown",
   "metadata": {},
   "source": [
    "the dataset is still a bit unbalanced but is acceptable as higher risk for marjor cardio diseases  accounts for about 13% of the dataset.\n",
    "\n",
    "##### In Step 9, use the Imbalanced-Learn library (built on top of Scikit-Learn) using the SMOTE algorithm to create a balanced dataset through oversampling."
   ]
  },
  {
   "cell_type": "markdown",
   "metadata": {},
   "source": [
    "#### Step4: Explore Data for Feature Selection"
   ]
  },
  {
   "cell_type": "code",
   "execution_count": 13,
   "metadata": {},
   "outputs": [
    {
     "data": {
      "image/png": "[encoded data removed]",
      "text/plain": [
       "<Figure size 1080x360 with 2 Axes>"
      ]
     },
     "metadata": {},
     "output_type": "display_data"
    },
    {
     "data": {
      "image/png": "[encoded data removed]",
      "text/plain": [
       "<Figure size 1080x360 with 2 Axes>"
      ]
     },
     "metadata": {},
     "output_type": "display_data"
    },
    {
     "data": {
      "image/png": "[encoded data removed]",
      "text/plain": [
       "<Figure size 1080x360 with 3 Axes>"
      ]
     },
     "metadata": {},
     "output_type": "display_data"
    }
   ],
   "source": [
    "# view count by attribute\n",
    "fig, axs = plt.subplots(ncols=2)\n",
    "sns.set_style('whitegrid')\n",
    "fig.set_size_inches(15, 5)\n",
    "fig.subplots_adjust(hspace=0.6, wspace=0.4)\n",
    "ax = sns.countplot(x='BMI',data=allDataClean,palette='Set1', ax=axs[0])\n",
    "ax = sns.countplot(x='AvgGlucose',data=allDataClean,palette='Set1', ax=axs[1])\n",
    "\n",
    "fig, axs = plt.subplots(ncols=2)\n",
    "sns.set_style('whitegrid')\n",
    "fig.set_size_inches(15, 5)\n",
    "fig.subplots_adjust(hspace=0.6, wspace=0.4)\n",
    "ax = sns.countplot(x='Age',data=allDataClean,palette='Set1', ax=axs[0])\n",
    "ax = sns.countplot(x='Gender',data=allDataClean,palette='Set1',ax=axs[1])\n",
    "\n",
    "fig, axs = plt.subplots(ncols=3)\n",
    "sns.set_style('whitegrid')\n",
    "fig.set_size_inches(15, 5)\n",
    "fig.subplots_adjust(hspace=0.6, wspace=0.4)\n",
    "ax = sns.countplot(x='EverMarried',data=allDataClean,palette='Set1', ax=axs[0])\n",
    "ax = sns.countplot(x='WorkType',data=allDataClean,palette='Set1', ax=axs[1])\n",
    "ax = sns.countplot(x='ResidenceType',data=allDataClean,palette='Set1', ax=axs[2])"
   ]
  },
  {
   "cell_type": "markdown",
   "metadata": {},
   "source": [
    "observe that other gender and never_worked are underrepresented in Gender and Work Type"
   ]
  },
  {
   "cell_type": "code",
   "execution_count": 16,
   "metadata": {
    "scrolled": true
   },
   "outputs": [],
   "source": [
    "# delete 'other' category in gender since it's under-represented\n",
    "allDataClean = allDataClean[allDataClean.Gender != 'Other']\n",
    "\n",
    "# delete \"Never_worked\" category since under-represented\n",
    "allDataClean = allDataClean[allDataClean.WorkType != 'Never_worked']"
   ]
  },
  {
   "cell_type": "code",
   "execution_count": 17,
   "metadata": {},
   "outputs": [
    {
     "data": {
      "image/png": "[encoded data removed]",
      "text/plain": [
       "<Figure size 1080x360 with 2 Axes>"
      ]
     },
     "metadata": {},
     "output_type": "display_data"
    },
    {
     "data": {
      "image/png": "[encoded data removed]",
      "text/plain": [
       "<Figure size 1080x360 with 2 Axes>"
      ]
     },
     "metadata": {},
     "output_type": "display_data"
    },
    {
     "data": {
      "image/png": "[encoded data removed]",
      "text/plain": [
       "<Figure size 1080x360 with 3 Axes>"
      ]
     },
     "metadata": {},
     "output_type": "display_data"
    }
   ],
   "source": [
    "# view count by attribute\n",
    "fig, axs = plt.subplots(ncols=2)\n",
    "sns.set_style('whitegrid')\n",
    "fig.set_size_inches(15, 5)\n",
    "fig.subplots_adjust(hspace=0.6, wspace=0.4)\n",
    "ax = sns.countplot(x='BMI',data=allDataClean,palette='Set1', ax=axs[0])\n",
    "ax = sns.countplot(x='AvgGlucose',data=allDataClean,palette='Set1', ax=axs[1])\n",
    "\n",
    "fig, axs = plt.subplots(ncols=2)\n",
    "sns.set_style('whitegrid')\n",
    "fig.set_size_inches(15, 5)\n",
    "fig.subplots_adjust(hspace=0.6, wspace=0.4)\n",
    "ax = sns.countplot(x='Age',data=allDataClean,palette='Set1', ax=axs[0])\n",
    "ax = sns.countplot(x='Gender',data=allDataClean,palette='Set1',ax=axs[1])\n",
    "\n",
    "fig, axs = plt.subplots(ncols=3)\n",
    "sns.set_style('whitegrid')\n",
    "fig.set_size_inches(15, 5)\n",
    "fig.subplots_adjust(hspace=0.6, wspace=0.4)\n",
    "ax = sns.countplot(x='EverMarried',data=allDataClean,palette='Set1', ax=axs[0])\n",
    "ax = sns.countplot(x='WorkType',data=allDataClean,palette='Set1', ax=axs[1])\n",
    "ax = sns.countplot(x='ResidenceType',data=allDataClean,palette='Set1', ax=axs[2])"
   ]
  },
  {
   "cell_type": "code",
   "execution_count": 18,
   "metadata": {},
   "outputs": [
    {
     "data": {
      "image/png": "[encoded data removed]",
      "text/plain": [
       "<Figure size 1080x360 with 2 Axes>"
      ]
     },
     "metadata": {},
     "output_type": "display_data"
    },
    {
     "data": {
      "image/png": "[encoded data removed]",
      "text/plain": [
       "<Figure size 1080x360 with 2 Axes>"
      ]
     },
     "metadata": {},
     "output_type": "display_data"
    },
    {
     "data": {
      "image/png": "[encoded data removed]",
      "text/plain": [
       "<Figure size 1080x360 with 3 Axes>"
      ]
     },
     "metadata": {},
     "output_type": "display_data"
    }
   ],
   "source": [
    "# view count of Risk by attribute (color = risk)\n",
    "fig, axs = plt.subplots(ncols=2)\n",
    "sns.set_style('whitegrid')\n",
    "fig.set_size_inches(15, 5)\n",
    "fig.subplots_adjust(hspace=0.6, wspace=0.4)\n",
    "ax = sns.countplot(x='BMI',hue='Risk',data=allDataClean,palette='Set1', ax=axs[0])\n",
    "ax = sns.countplot(x='AvgGlucose',hue='Risk',data=allDataClean,palette='Set1', ax=axs[1])\n",
    "\n",
    "fig, axs = plt.subplots(ncols=2)\n",
    "sns.set_style('whitegrid')\n",
    "fig.set_size_inches(15, 5)\n",
    "fig.subplots_adjust(hspace=0.6, wspace=0.4)\n",
    "ax = sns.countplot(x='Age',hue='Risk',data=allDataClean,palette='Set1', ax=axs[0])\n",
    "ax = sns.countplot(x='Gender',hue='Risk',data=allDataClean,palette='Set1',ax=axs[1])\n",
    "\n",
    "fig, axs = plt.subplots(ncols=3)\n",
    "sns.set_style('whitegrid')\n",
    "fig.set_size_inches(15, 5)\n",
    "fig.subplots_adjust(hspace=0.6, wspace=0.4)\n",
    "ax = sns.countplot(x='EverMarried',hue='Risk',data=allDataClean,palette='Set1', ax=axs[0])\n",
    "ax = sns.countplot(x='WorkType',hue='Risk',data=allDataClean,palette='Set1', ax=axs[1])\n",
    "ax = sns.countplot(x='ResidenceType',hue='Risk',data=allDataClean,palette='Set1', ax=axs[2])"
   ]
  },
  {
   "cell_type": "code",
   "execution_count": 19,
   "metadata": {},
   "outputs": [
    {
     "ename": "NameError",
     "evalue": "name 'allDataEncoded7' is not defined",
     "output_type": "error",
     "traceback": [
      "\u001b[1;31m---------------------------------------------------------------------------\u001b[0m",
      "\u001b[1;31mNameError\u001b[0m                                 Traceback (most recent call last)",
      "\u001b[1;32m<ipython-input-19-54c6c905b6a2>\u001b[0m in \u001b[0;36m<module>\u001b[1;34m()\u001b[0m\n\u001b[0;32m      4\u001b[0m \u001b[0mfig\u001b[0m\u001b[1;33m.\u001b[0m\u001b[0mset_size_inches\u001b[0m\u001b[1;33m(\u001b[0m\u001b[1;36m15\u001b[0m\u001b[1;33m,\u001b[0m \u001b[1;36m5\u001b[0m\u001b[1;33m)\u001b[0m\u001b[1;33m\u001b[0m\u001b[0m\n\u001b[0;32m      5\u001b[0m \u001b[0mfig\u001b[0m\u001b[1;33m.\u001b[0m\u001b[0msubplots_adjust\u001b[0m\u001b[1;33m(\u001b[0m\u001b[0mhspace\u001b[0m\u001b[1;33m=\u001b[0m\u001b[1;36m0.6\u001b[0m\u001b[1;33m,\u001b[0m \u001b[0mwspace\u001b[0m\u001b[1;33m=\u001b[0m\u001b[1;36m0.4\u001b[0m\u001b[1;33m)\u001b[0m\u001b[1;33m\u001b[0m\u001b[0m\n\u001b[1;32m----> 6\u001b[1;33m \u001b[0max\u001b[0m \u001b[1;33m=\u001b[0m \u001b[0msns\u001b[0m\u001b[1;33m.\u001b[0m\u001b[0mboxplot\u001b[0m\u001b[1;33m(\u001b[0m\u001b[0mx\u001b[0m\u001b[1;33m=\u001b[0m\u001b[1;34m\"Risk_low\"\u001b[0m\u001b[1;33m,\u001b[0m \u001b[0my\u001b[0m\u001b[1;33m=\u001b[0m\u001b[1;34m\"Age\"\u001b[0m\u001b[1;33m,\u001b[0m \u001b[0mdata\u001b[0m\u001b[1;33m=\u001b[0m\u001b[0mallDataEncoded7\u001b[0m\u001b[1;33m,\u001b[0m \u001b[0max\u001b[0m\u001b[1;33m=\u001b[0m\u001b[0maxs\u001b[0m\u001b[1;33m[\u001b[0m\u001b[1;36m0\u001b[0m\u001b[1;33m]\u001b[0m\u001b[1;33m)\u001b[0m\u001b[1;33m\u001b[0m\u001b[0m\n\u001b[0m\u001b[0;32m      7\u001b[0m \u001b[0max\u001b[0m \u001b[1;33m=\u001b[0m \u001b[0msns\u001b[0m\u001b[1;33m.\u001b[0m\u001b[0mboxplot\u001b[0m\u001b[1;33m(\u001b[0m\u001b[0mx\u001b[0m\u001b[1;33m=\u001b[0m\u001b[1;34m\"Risk_low\"\u001b[0m\u001b[1;33m,\u001b[0m \u001b[0my\u001b[0m\u001b[1;33m=\u001b[0m\u001b[1;34m\"AvgGlucose\"\u001b[0m\u001b[1;33m,\u001b[0m \u001b[0mdata\u001b[0m\u001b[1;33m=\u001b[0m\u001b[0mallDataEncoded7\u001b[0m\u001b[1;33m,\u001b[0m \u001b[0max\u001b[0m\u001b[1;33m=\u001b[0m\u001b[0maxs\u001b[0m\u001b[1;33m[\u001b[0m\u001b[1;36m1\u001b[0m\u001b[1;33m]\u001b[0m\u001b[1;33m)\u001b[0m\u001b[1;33m\u001b[0m\u001b[0m\n\u001b[0;32m      8\u001b[0m \u001b[0max\u001b[0m \u001b[1;33m=\u001b[0m \u001b[0msns\u001b[0m\u001b[1;33m.\u001b[0m\u001b[0mboxplot\u001b[0m\u001b[1;33m(\u001b[0m\u001b[0mx\u001b[0m\u001b[1;33m=\u001b[0m\u001b[1;34m\"Risk_low\"\u001b[0m\u001b[1;33m,\u001b[0m \u001b[0my\u001b[0m\u001b[1;33m=\u001b[0m\u001b[1;34m\"BMI\"\u001b[0m\u001b[1;33m,\u001b[0m \u001b[0mdata\u001b[0m\u001b[1;33m=\u001b[0m\u001b[0mallDataEncoded7\u001b[0m\u001b[1;33m,\u001b[0m \u001b[0max\u001b[0m\u001b[1;33m=\u001b[0m\u001b[0maxs\u001b[0m\u001b[1;33m[\u001b[0m\u001b[1;36m2\u001b[0m\u001b[1;33m]\u001b[0m\u001b[1;33m)\u001b[0m\u001b[1;33m\u001b[0m\u001b[0m\n",
      "\u001b[1;31mNameError\u001b[0m: name 'allDataEncoded7' is not defined"
     ]
    },
    {
     "data": {
      "image/png": "[encoded data removed]",
      "text/plain": [
       "<Figure size 1080x360 with 3 Axes>"
      ]
     },
     "metadata": {},
     "output_type": "display_data"
    }
   ],
   "source": [
    "# explore outliers of continuous variables\n",
    "fig, axs = plt.subplots(ncols=3)\n",
    "sns.set_style('whitegrid')\n",
    "fig.set_size_inches(15, 5)\n",
    "fig.subplots_adjust(hspace=0.6, wspace=0.4)\n",
    "ax = sns.boxplot(x=\"Risk_low\", y=\"Age\", data=allDataEncoded7, ax=axs[0])\n",
    "ax = sns.boxplot(x=\"Risk_low\", y=\"AvgGlucose\", data=allDataEncoded7, ax=axs[1])\n",
    "ax = sns.boxplot(x=\"Risk_low\", y=\"BMI\", data=allDataEncoded7, ax=axs[2])"
   ]
  },
  {
   "cell_type": "markdown",
   "metadata": {},
   "source": [
    "#### Step5: Transform Categorical Features into Numeric"
   ]
  },
  {
   "cell_type": "code",
   "execution_count": 20,
   "metadata": {},
   "outputs": [
    {
     "ename": "NameError",
     "evalue": "name 'allDataEncoded7' is not defined",
     "output_type": "error",
     "traceback": [
      "\u001b[1;31m---------------------------------------------------------------------------\u001b[0m",
      "\u001b[1;31mNameError\u001b[0m                                 Traceback (most recent call last)",
      "\u001b[1;32m<ipython-input-20-129378f8e181>\u001b[0m in \u001b[0;36m<module>\u001b[1;34m()\u001b[0m\n\u001b[0;32m      1\u001b[0m \u001b[1;31m# view encoded dataset information again\u001b[0m\u001b[1;33m\u001b[0m\u001b[1;33m\u001b[0m\u001b[0m\n\u001b[1;32m----> 2\u001b[1;33m \u001b[0mallDataEncoded7\u001b[0m\u001b[1;33m.\u001b[0m\u001b[0minfo\u001b[0m\u001b[1;33m(\u001b[0m\u001b[1;33m)\u001b[0m\u001b[1;33m\u001b[0m\u001b[0m\n\u001b[0m\u001b[0;32m      3\u001b[0m \u001b[1;31m# observe that 4 variables are categorical and need to be converted\u001b[0m\u001b[1;33m\u001b[0m\u001b[1;33m\u001b[0m\u001b[0m\n",
      "\u001b[1;31mNameError\u001b[0m: name 'allDataEncoded7' is not defined"
     ]
    }
   ],
   "source": [
    "# view encoded dataset information again\n",
    "allDataEncoded7.info() \n",
    "# observe that 4 variables are categorical and need to be converted"
   ]
  },
  {
   "cell_type": "code",
   "execution_count": 21,
   "metadata": {},
   "outputs": [
    {
     "data": {
      "text/html": [
       "<div>\n",
       "<style scoped>\n",
       "    .dataframe tbody tr th:only-of-type {\n",
       "        vertical-align: middle;\n",
       "    }\n",
       "\n",
       "    .dataframe tbody tr th {\n",
       "        vertical-align: top;\n",
       "    }\n",
       "\n",
       "    .dataframe thead th {\n",
       "        text-align: right;\n",
       "    }\n",
       "</style>\n",
       "<table border=\"1\" class=\"dataframe\">\n",
       "  <thead>\n",
       "    <tr style=\"text-align: right;\">\n",
       "      <th></th>\n",
       "      <th>Age</th>\n",
       "      <th>AvgGlucose</th>\n",
       "      <th>BMI</th>\n",
       "      <th>Gender_Male</th>\n",
       "      <th>EverMarried_Yes</th>\n",
       "      <th>WorkType_Private</th>\n",
       "      <th>WorkType_Self-employed</th>\n",
       "      <th>WorkType_children</th>\n",
       "      <th>Risk_low</th>\n",
       "      <th>ResidenceType_Urban</th>\n",
       "    </tr>\n",
       "  </thead>\n",
       "  <tbody>\n",
       "    <tr>\n",
       "      <th>count</th>\n",
       "      <td>43212.000000</td>\n",
       "      <td>43212.000000</td>\n",
       "      <td>43212.000000</td>\n",
       "      <td>43212.000000</td>\n",
       "      <td>43212.000000</td>\n",
       "      <td>43212.000000</td>\n",
       "      <td>43212.000000</td>\n",
       "      <td>43212.000000</td>\n",
       "      <td>43212.000000</td>\n",
       "      <td>43212.000000</td>\n",
       "    </tr>\n",
       "    <tr>\n",
       "      <th>mean</th>\n",
       "      <td>42.319948</td>\n",
       "      <td>104.526833</td>\n",
       "      <td>28.615716</td>\n",
       "      <td>0.408405</td>\n",
       "      <td>0.646256</td>\n",
       "      <td>0.574539</td>\n",
       "      <td>0.157202</td>\n",
       "      <td>0.142414</td>\n",
       "      <td>0.859645</td>\n",
       "      <td>0.501203</td>\n",
       "    </tr>\n",
       "    <tr>\n",
       "      <th>std</th>\n",
       "      <td>22.508317</td>\n",
       "      <td>43.162225</td>\n",
       "      <td>7.641037</td>\n",
       "      <td>0.491544</td>\n",
       "      <td>0.478137</td>\n",
       "      <td>0.494418</td>\n",
       "      <td>0.363995</td>\n",
       "      <td>0.349478</td>\n",
       "      <td>0.347359</td>\n",
       "      <td>0.500004</td>\n",
       "    </tr>\n",
       "    <tr>\n",
       "      <th>min</th>\n",
       "      <td>0.080000</td>\n",
       "      <td>55.000000</td>\n",
       "      <td>10.100000</td>\n",
       "      <td>0.000000</td>\n",
       "      <td>0.000000</td>\n",
       "      <td>0.000000</td>\n",
       "      <td>0.000000</td>\n",
       "      <td>0.000000</td>\n",
       "      <td>0.000000</td>\n",
       "      <td>0.000000</td>\n",
       "    </tr>\n",
       "    <tr>\n",
       "      <th>25%</th>\n",
       "      <td>24.000000</td>\n",
       "      <td>77.540000</td>\n",
       "      <td>23.400000</td>\n",
       "      <td>0.000000</td>\n",
       "      <td>0.000000</td>\n",
       "      <td>0.000000</td>\n",
       "      <td>0.000000</td>\n",
       "      <td>0.000000</td>\n",
       "      <td>1.000000</td>\n",
       "      <td>0.000000</td>\n",
       "    </tr>\n",
       "    <tr>\n",
       "      <th>50%</th>\n",
       "      <td>44.000000</td>\n",
       "      <td>91.590000</td>\n",
       "      <td>28.100000</td>\n",
       "      <td>0.000000</td>\n",
       "      <td>1.000000</td>\n",
       "      <td>1.000000</td>\n",
       "      <td>0.000000</td>\n",
       "      <td>0.000000</td>\n",
       "      <td>1.000000</td>\n",
       "      <td>1.000000</td>\n",
       "    </tr>\n",
       "    <tr>\n",
       "      <th>75%</th>\n",
       "      <td>60.000000</td>\n",
       "      <td>112.100000</td>\n",
       "      <td>32.700000</td>\n",
       "      <td>1.000000</td>\n",
       "      <td>1.000000</td>\n",
       "      <td>1.000000</td>\n",
       "      <td>0.000000</td>\n",
       "      <td>0.000000</td>\n",
       "      <td>1.000000</td>\n",
       "      <td>1.000000</td>\n",
       "    </tr>\n",
       "    <tr>\n",
       "      <th>max</th>\n",
       "      <td>82.000000</td>\n",
       "      <td>291.050000</td>\n",
       "      <td>97.600000</td>\n",
       "      <td>1.000000</td>\n",
       "      <td>1.000000</td>\n",
       "      <td>1.000000</td>\n",
       "      <td>1.000000</td>\n",
       "      <td>1.000000</td>\n",
       "      <td>1.000000</td>\n",
       "      <td>1.000000</td>\n",
       "    </tr>\n",
       "  </tbody>\n",
       "</table>\n",
       "</div>"
      ],
      "text/plain": [
       "                Age    AvgGlucose           BMI   Gender_Male  \\\n",
       "count  43212.000000  43212.000000  43212.000000  43212.000000   \n",
       "mean      42.319948    104.526833     28.615716      0.408405   \n",
       "std       22.508317     43.162225      7.641037      0.491544   \n",
       "min        0.080000     55.000000     10.100000      0.000000   \n",
       "25%       24.000000     77.540000     23.400000      0.000000   \n",
       "50%       44.000000     91.590000     28.100000      0.000000   \n",
       "75%       60.000000    112.100000     32.700000      1.000000   \n",
       "max       82.000000    291.050000     97.600000      1.000000   \n",
       "\n",
       "       EverMarried_Yes  WorkType_Private  WorkType_Self-employed  \\\n",
       "count     43212.000000      43212.000000            43212.000000   \n",
       "mean          0.646256          0.574539                0.157202   \n",
       "std           0.478137          0.494418                0.363995   \n",
       "min           0.000000          0.000000                0.000000   \n",
       "25%           0.000000          0.000000                0.000000   \n",
       "50%           1.000000          1.000000                0.000000   \n",
       "75%           1.000000          1.000000                0.000000   \n",
       "max           1.000000          1.000000                1.000000   \n",
       "\n",
       "       WorkType_children      Risk_low  ResidenceType_Urban  \n",
       "count       43212.000000  43212.000000         43212.000000  \n",
       "mean            0.142414      0.859645             0.501203  \n",
       "std             0.349478      0.347359             0.500004  \n",
       "min             0.000000      0.000000             0.000000  \n",
       "25%             0.000000      1.000000             0.000000  \n",
       "50%             0.000000      1.000000             1.000000  \n",
       "75%             0.000000      1.000000             1.000000  \n",
       "max             1.000000      1.000000             1.000000  "
      ]
     },
     "execution_count": 21,
     "metadata": {},
     "output_type": "execute_result"
    }
   ],
   "source": [
    "# Convert categorical data to numbers using binary encoding with get_dummies\n",
    "allDataEncoded = allDataClean.copy()\n",
    "# encode gender\n",
    "genderFeatures = ['Gender']\n",
    "allDataEncoded = pd.get_dummies(allDataClean,columns=genderFeatures,drop_first=True)\n",
    "# then encode ever married\n",
    "marriedFeatures = ['EverMarried']\n",
    "allDataEncoded2 = pd.get_dummies(allDataEncoded,columns=marriedFeatures,drop_first=True)\n",
    "# then encode work\n",
    "workFeatures = ['WorkType']\n",
    "allDataEncoded3 = pd.get_dummies(allDataEncoded2,columns=workFeatures,drop_first=True)\n",
    "# then encode risk\n",
    "encodeRisk = ['Risk']\n",
    "allDataEncoded4 = pd.get_dummies(allDataEncoded3,columns=encodeRisk,drop_first=True)\n",
    "# then encode res type\n",
    "encodeRes = ['ResidenceType']\n",
    "allDataEncoded7 = pd.get_dummies(allDataEncoded4,columns=encodeRes,drop_first=True)\n",
    "\n",
    "# observe descriptive statistics related to new dummy variables\n",
    "allDataEncoded7.describe()"
   ]
  },
  {
   "cell_type": "code",
   "execution_count": 22,
   "metadata": {},
   "outputs": [
    {
     "data": {
      "image/png": "[encoded data removed]",
      "text/plain": [
       "<Figure size 432x288 with 2 Axes>"
      ]
     },
     "metadata": {},
     "output_type": "display_data"
    }
   ],
   "source": [
    "# explore multicolinearity of encoded data - in case consider using Naive Beyes\n",
    "sns.heatmap(allDataEncoded7.corr(), annot=True, fmt=\".2f\")\n",
    "plt.show()"
   ]
  },
  {
   "cell_type": "markdown",
   "metadata": {},
   "source": [
    "looks like age is correlated with work type: \"children\", and marriage status,\n",
    "which makes sense as individuals under 18 won't be working or married\n",
    "\n",
    "Possibly delete individuals younger than 18?"
   ]
  },
  {
   "cell_type": "code",
   "execution_count": 23,
   "metadata": {},
   "outputs": [],
   "source": [
    "# restrict age to greater than or equal to 18 \n",
    "# because <18 might influence marriage and work status\n",
    "# allDataClean = allDataClean[allDataClean.Age >= 18]"
   ]
  },
  {
   "cell_type": "markdown",
   "metadata": {},
   "source": [
    "##### Based on Steps 1-5 we have a basic understanding of the attributes' distributions, relationships, and outliers and are one step closer to concluding which features to include in our final model."
   ]
  },
  {
   "cell_type": "markdown",
   "metadata": {},
   "source": [
    "##### Next, we will split the data to build a decision tree and random forest in order to numerically observe the most important features."
   ]
  },
  {
   "cell_type": "markdown",
   "metadata": {},
   "source": [
    "#### Step6: Split data into training set and testing set for evaluating feature importance"
   ]
  },
  {
   "cell_type": "code",
   "execution_count": 24,
   "metadata": {},
   "outputs": [],
   "source": [
    "from sklearn.model_selection import train_test_split\n",
    "X = allDataEncoded7.drop('Risk_low',axis=1)\n",
    "y = allDataEncoded7['Risk_low']\n",
    "X_train, X_test, y_train, y_test = train_test_split(X, y, random_state=71, stratify=y)\n",
    "\n",
    "# normalize\n",
    "sds = StandardScaler()\n",
    "sds.fit(X_train)\n",
    "X_train = sds.transform(X_train)\n",
    "X_test = sds.transform(X_test)"
   ]
  },
  {
   "cell_type": "markdown",
   "metadata": {},
   "source": [
    "#### Step 7: train a decision tree model  to evaluate feature importance"
   ]
  },
  {
   "cell_type": "code",
   "execution_count": 25,
   "metadata": {},
   "outputs": [
    {
     "name": "stdout",
     "output_type": "stream",
     "text": [
      "Average Accuracy Score of Testing Data: 0.8032953809127095\n",
      "Decision tree 1 took 0.24138760566711426 seconds to train and got a score of 0.6070586086091347\n",
      "\n",
      "And here are the top features: \n",
      "('Age', 0.2762547143058364)\n",
      "('AvgGlucose', 0.3686210996161401)\n",
      "('BMI', 0.24240117454154939)\n",
      "('Gender_Male', 0.02188895713982034)\n",
      "('EverMarried_Yes', 0.015071740759795022)\n",
      "('WorkType_Private', 0.023819334683642335)\n",
      "('WorkType_Self-employed', 0.019535148267376505)\n",
      "('WorkType_children', 0.0)\n",
      "('ResidenceType_Urban', 0.03240783068583998)\n",
      "\n",
      "Decision tree 2 took 0.20445966720581055 seconds to train and got a score of 0.6029257426544269\n",
      "\n",
      "And here are the top features: \n",
      "('Age', 0.2791846499960039)\n",
      "('AvgGlucose', 0.36356659980462863)\n",
      "('BMI', 0.24203870404344893)\n",
      "('Gender_Male', 0.02073478080604998)\n",
      "('EverMarried_Yes', 0.015194438277486991)\n",
      "('WorkType_Private', 0.024729167227707047)\n",
      "('WorkType_Self-employed', 0.020619979099225735)\n",
      "('WorkType_children', 0.0)\n",
      "('ResidenceType_Urban', 0.03393168074544882)\n",
      "\n",
      "Decision tree 3 took 0.23137736320495605 seconds to train and got a score of 0.6063112237635779\n",
      "\n",
      "And here are the top features: \n",
      "('Age', 0.27625049310159644)\n",
      "('AvgGlucose', 0.36753856127433265)\n",
      "('BMI', 0.24322929268044505)\n",
      "('Gender_Male', 0.019948056730478225)\n",
      "('EverMarried_Yes', 0.015465616387380294)\n",
      "('WorkType_Private', 0.024495251393897535)\n",
      "('WorkType_Self-employed', 0.019348370015590574)\n",
      "('WorkType_children', 0.0)\n",
      "('ResidenceType_Urban', 0.033724358416279215)\n",
      "\n"
     ]
    }
   ],
   "source": [
    "# Import DecisionTreeClassifier\n",
    "from sklearn.tree import DecisionTreeClassifier\n",
    "\n",
    "# Create an instance of DecisionTreeClassifier() called dtree and fit it to the training data.\n",
    "dtree = DecisionTreeClassifier()\n",
    "dtree.fit(X_train,y_train)\n",
    "\n",
    "#### predict and evaluate decision tree \n",
    "\n",
    "# create predictions from the test set\n",
    "predictions = dtree.predict(X_test)\n",
    "\n",
    "# create a classification report and a coonfusion matrix\n",
    "# from sklearn.metrics import classification_report,confusion_matrix\n",
    "# print(classification_report(y_test,predictions))\n",
    "\n",
    "# print(confusion_matrix(y_test,predictions))\n",
    "\n",
    "# Note: \n",
    "# accuracy not good bc unbalanced dataset\n",
    "# precision = 30% (only true positives)\n",
    "# recall = 28%\n",
    "# specificity = 8109 / (8109+937)\n",
    "\n",
    "# print(f\"Training Data Score: {dtree.score(X_train, y_train)}\")\n",
    "print(f\"Average Accuracy Score of Testing Data: {dtree.score(X_test, y_test)}\")\n",
    "\n",
    "import os\n",
    "import time\n",
    "import sys\n",
    "\n",
    "# use decision tree to consider feature importance\n",
    "for i in range(3):\n",
    "    \n",
    "    t0 = time.time()\n",
    "    clf = DecisionTreeClassifier()\n",
    "\n",
    "    clf.fit(X_train, y_train)\n",
    "    t1 = time.time()\n",
    "    \n",
    "    ypred = clf.predict(X_test)\n",
    "    scores = roc_auc_score(y_test, ypred)\n",
    "    \n",
    "    print(f\"Decision tree {i+1} took {t1-t0} seconds to train and got a score of {scores}\")\n",
    "    print()\n",
    "    print(\"And here are the top features: \")\n",
    "    c = X.columns \n",
    "    for cfi in zip(c, clf.feature_importances_):\n",
    "        print(cfi)\n",
    "    print()"
   ]
  },
  {
   "cell_type": "markdown",
   "metadata": {},
   "source": [
    "Based on decision tree, looks like glucose, bmi, and age are most important in predicting risk <br>\n",
    "followed by residence type, worktype, marriage status and gender <br>\n",
    "\n",
    "keep in mind that the average accuracy of this decision tree is only about 77%"
   ]
  },
  {
   "cell_type": "markdown",
   "metadata": {},
   "source": [
    "#### Step 8: Train a random forest model to evaluate potential features"
   ]
  },
  {
   "cell_type": "code",
   "execution_count": 26,
   "metadata": {},
   "outputs": [
    {
     "name": "stdout",
     "output_type": "stream",
     "text": [
      "Average Accuracy Score of Testing Data: 0.8514301582893641\n",
      "                        importance\n",
      "AvgGlucose                0.352738\n",
      "BMI                       0.288750\n",
      "Age                       0.270447\n",
      "EverMarried_Yes           0.022058\n",
      "ResidenceType_Urban       0.021194\n",
      "Gender_Male               0.015338\n",
      "WorkType_Private          0.014114\n",
      "WorkType_Self-employed    0.012286\n",
      "WorkType_children         0.003074\n"
     ]
    }
   ],
   "source": [
    "# create an instance of the random forest classifer class \n",
    "from sklearn.ensemble import RandomForestClassifier\n",
    "rfc = RandomForestClassifier(n_estimators=600)\n",
    "rfc.fit(X_train,y_train)\n",
    "print(f\"Average Accuracy Score of Testing Data: {rfc.score(X_test, y_test)}\")\n",
    "importances = rfc.feature_importances_\n",
    "feature_importances = pd.DataFrame(rfc.feature_importances_, index = X.columns, columns=['importance']).sort_values('importance',ascending=False)\n",
    "print(feature_importances)"
   ]
  },
  {
   "cell_type": "markdown",
   "metadata": {},
   "source": [
    "Based on random forest feature evaluation, \n",
    "- Glucose, BMI, and Age appear are most useful in predicting cardiovascular risk,\n",
    "- followed by Marriage Status, residence type, and gender, \n",
    "- while work type appears to be least effective feature in cardiovascular risk prediction.\n",
    "\n",
    "Because random forest's average accuracy is a bit higher, we will give more weight to it's ranking of feature importance\n",
    "\n",
    "##### Decide to use Glucose, BMI, Age, Marriage Status, Residence Type, and Gender for Models"
   ]
  },
  {
   "cell_type": "markdown",
   "metadata": {},
   "source": [
    "#### Step9: Split dataset and create a balanced sample through over-sampling"
   ]
  },
  {
   "cell_type": "code",
   "execution_count": 27,
   "metadata": {},
   "outputs": [
    {
     "name": "stdout",
     "output_type": "stream",
     "text": [
      "Collecting imbalanced-learn\n",
      "  Using cached https://files.pythonhosted.org/packages/e5/4c/7557e1c2e791bd43878f8c82065bddc5798252084f26ef44527c02262af1/imbalanced_learn-0.4.3-py3-none-any.whl\n",
      "Requirement already satisfied, skipping upgrade: scikit-learn>=0.20 in c:\\users\\bonew\\appdata\\local\\continuum\\anaconda3\\lib\\site-packages (from imbalanced-learn) (0.20.2)\n",
      "Requirement already satisfied, skipping upgrade: scipy>=0.13.3 in c:\\users\\bonew\\appdata\\local\\continuum\\anaconda3\\lib\\site-packages (from imbalanced-learn) (1.1.0)\n",
      "Requirement already satisfied, skipping upgrade: numpy>=1.8.2 in c:\\users\\bonew\\appdata\\local\\continuum\\anaconda3\\lib\\site-packages (from imbalanced-learn) (1.14.2)\n",
      "Installing collected packages: imbalanced-learn\n",
      "Successfully installed imbalanced-learn-0.4.3\n"
     ]
    },
    {
     "name": "stderr",
     "output_type": "stream",
     "text": [
      "You are using pip version 18.1, however version 19.0.1 is available.\n",
      "You should consider upgrading via the 'python -m pip install --upgrade pip' command.\n"
     ]
    }
   ],
   "source": [
    "# use the Imbalanced-Learn library (built on top of Scikit-Learn) using the SMOTE algorithm \n",
    "# to create a balanced sample.\n",
    "!pip install -U imbalanced-learn\n",
    "from sklearn.model_selection import train_test_split\n",
    "from imblearn.over_sampling import SMOTE\n",
    " \n",
    "X = allDataEncoded7.drop('Risk_low',axis=1)\n",
    "y = allDataEncoded7['Risk_low']\n",
    "X_train, X_test, y_train, y_test = train_test_split(X, y, random_state=71, stratify=y)\n",
    "sm = SMOTE(random_state=12, ratio = 1.0)\n",
    "x_train_res, y_train_res = sm.fit_sample(X_train, y_train)"
   ]
  },
  {
   "cell_type": "code",
   "execution_count": 28,
   "metadata": {},
   "outputs": [
    {
     "data": {
      "text/html": [
       "<div>\n",
       "<style scoped>\n",
       "    .dataframe tbody tr th:only-of-type {\n",
       "        vertical-align: middle;\n",
       "    }\n",
       "\n",
       "    .dataframe tbody tr th {\n",
       "        vertical-align: top;\n",
       "    }\n",
       "\n",
       "    .dataframe thead th {\n",
       "        text-align: right;\n",
       "    }\n",
       "</style>\n",
       "<table border=\"1\" class=\"dataframe\">\n",
       "  <thead>\n",
       "    <tr style=\"text-align: right;\">\n",
       "      <th></th>\n",
       "      <th>Age</th>\n",
       "      <th>AvgGlucose</th>\n",
       "      <th>BMI</th>\n",
       "      <th>Gender_Male</th>\n",
       "      <th>EverMarried_Yes</th>\n",
       "      <th>WorkType_Private</th>\n",
       "      <th>WorkType_Self-employed</th>\n",
       "      <th>WorkType_children</th>\n",
       "    </tr>\n",
       "    <tr>\n",
       "      <th>ResidenceType_Urban</th>\n",
       "      <th></th>\n",
       "      <th></th>\n",
       "      <th></th>\n",
       "      <th></th>\n",
       "      <th></th>\n",
       "      <th></th>\n",
       "      <th></th>\n",
       "      <th></th>\n",
       "    </tr>\n",
       "  </thead>\n",
       "  <tbody>\n",
       "    <tr>\n",
       "      <th>0</th>\n",
       "      <td>16115</td>\n",
       "      <td>16115</td>\n",
       "      <td>16115</td>\n",
       "      <td>16115</td>\n",
       "      <td>16115</td>\n",
       "      <td>16115</td>\n",
       "      <td>16115</td>\n",
       "      <td>16115</td>\n",
       "    </tr>\n",
       "    <tr>\n",
       "      <th>1</th>\n",
       "      <td>16294</td>\n",
       "      <td>16294</td>\n",
       "      <td>16294</td>\n",
       "      <td>16294</td>\n",
       "      <td>16294</td>\n",
       "      <td>16294</td>\n",
       "      <td>16294</td>\n",
       "      <td>16294</td>\n",
       "    </tr>\n",
       "  </tbody>\n",
       "</table>\n",
       "</div>"
      ],
      "text/plain": [
       "                       Age  AvgGlucose    BMI  Gender_Male  EverMarried_Yes  \\\n",
       "ResidenceType_Urban                                                           \n",
       "0                    16115       16115  16115        16115            16115   \n",
       "1                    16294       16294  16294        16294            16294   \n",
       "\n",
       "                     WorkType_Private  WorkType_Self-employed  \\\n",
       "ResidenceType_Urban                                             \n",
       "0                               16115                   16115   \n",
       "1                               16294                   16294   \n",
       "\n",
       "                     WorkType_children  \n",
       "ResidenceType_Urban                     \n",
       "0                                16115  \n",
       "1                                16294  "
      ]
     },
     "execution_count": 28,
     "metadata": {},
     "output_type": "execute_result"
    }
   ],
   "source": [
    "X_train.groupby('ResidenceType_Urban').count()"
   ]
  },
  {
   "cell_type": "code",
   "execution_count": 29,
   "metadata": {},
   "outputs": [
    {
     "data": {
      "text/html": [
       "<div>\n",
       "<style scoped>\n",
       "    .dataframe tbody tr th:only-of-type {\n",
       "        vertical-align: middle;\n",
       "    }\n",
       "\n",
       "    .dataframe tbody tr th {\n",
       "        vertical-align: top;\n",
       "    }\n",
       "\n",
       "    .dataframe thead th {\n",
       "        text-align: right;\n",
       "    }\n",
       "</style>\n",
       "<table border=\"1\" class=\"dataframe\">\n",
       "  <thead>\n",
       "    <tr style=\"text-align: right;\">\n",
       "      <th></th>\n",
       "      <th>Age</th>\n",
       "      <th>AvgGlucose</th>\n",
       "      <th>BMI</th>\n",
       "      <th>Gender_Male</th>\n",
       "      <th>EverMarried_Yes</th>\n",
       "      <th>WorkType_Private</th>\n",
       "      <th>WorkType_Self-employed</th>\n",
       "      <th>WorkType_children</th>\n",
       "    </tr>\n",
       "    <tr>\n",
       "      <th>ResidenceType_Urban</th>\n",
       "      <th></th>\n",
       "      <th></th>\n",
       "      <th></th>\n",
       "      <th></th>\n",
       "      <th></th>\n",
       "      <th></th>\n",
       "      <th></th>\n",
       "      <th></th>\n",
       "    </tr>\n",
       "  </thead>\n",
       "  <tbody>\n",
       "    <tr>\n",
       "      <th>0</th>\n",
       "      <td>16115</td>\n",
       "      <td>16115</td>\n",
       "      <td>16115</td>\n",
       "      <td>16115</td>\n",
       "      <td>16115</td>\n",
       "      <td>16115</td>\n",
       "      <td>16115</td>\n",
       "      <td>16115</td>\n",
       "    </tr>\n",
       "    <tr>\n",
       "      <th>1</th>\n",
       "      <td>16294</td>\n",
       "      <td>16294</td>\n",
       "      <td>16294</td>\n",
       "      <td>16294</td>\n",
       "      <td>16294</td>\n",
       "      <td>16294</td>\n",
       "      <td>16294</td>\n",
       "      <td>16294</td>\n",
       "    </tr>\n",
       "  </tbody>\n",
       "</table>\n",
       "</div>"
      ],
      "text/plain": [
       "                       Age  AvgGlucose    BMI  Gender_Male  EverMarried_Yes  \\\n",
       "ResidenceType_Urban                                                           \n",
       "0                    16115       16115  16115        16115            16115   \n",
       "1                    16294       16294  16294        16294            16294   \n",
       "\n",
       "                     WorkType_Private  WorkType_Self-employed  \\\n",
       "ResidenceType_Urban                                             \n",
       "0                               16115                   16115   \n",
       "1                               16294                   16294   \n",
       "\n",
       "                     WorkType_children  \n",
       "ResidenceType_Urban                     \n",
       "0                                16115  \n",
       "1                                16294  "
      ]
     },
     "execution_count": 29,
     "metadata": {},
     "output_type": "execute_result"
    }
   ],
   "source": [
    "X_train.groupby('ResidenceType_Urban').count()"
   ]
  },
  {
   "cell_type": "markdown",
   "metadata": {},
   "source": [
    "Now the dataset is closer to 50-50"
   ]
  },
  {
   "cell_type": "code",
   "execution_count": 30,
   "metadata": {},
   "outputs": [
    {
     "data": {
      "text/plain": [
       "count    32409.000000\n",
       "mean         0.859638\n",
       "std          0.347368\n",
       "min          0.000000\n",
       "25%          1.000000\n",
       "50%          1.000000\n",
       "75%          1.000000\n",
       "max          1.000000\n",
       "Name: Risk_low, dtype: float64"
      ]
     },
     "execution_count": 30,
     "metadata": {},
     "output_type": "execute_result"
    }
   ],
   "source": [
    "y_train.describe()"
   ]
  },
  {
   "cell_type": "markdown",
   "metadata": {},
   "source": [
    "## 1.  Logistic Regression"
   ]
  },
  {
   "cell_type": "code",
   "execution_count": 31,
   "metadata": {},
   "outputs": [],
   "source": [
    "from sklearn.linear_model import LogisticRegression"
   ]
  },
  {
   "cell_type": "code",
   "execution_count": 32,
   "metadata": {},
   "outputs": [
    {
     "data": {
      "text/plain": [
       "LogisticRegression(C=1.0, class_weight=None, dual=False, fit_intercept=True,\n",
       "          intercept_scaling=1, max_iter=100, multi_class='ovr', n_jobs=1,\n",
       "          penalty='l2', random_state=None, solver='liblinear', tol=0.0001,\n",
       "          verbose=0, warm_start=False)"
      ]
     },
     "execution_count": 32,
     "metadata": {},
     "output_type": "execute_result"
    }
   ],
   "source": [
    "logmodel = LogisticRegression()\n",
    "logmodel.fit(X_train,y_train)"
   ]
  },
  {
   "cell_type": "markdown",
   "metadata": {},
   "source": [
    "### Predictions and Evaluations\n",
    "Now predict values for the testing data."
   ]
  },
  {
   "cell_type": "code",
   "execution_count": 33,
   "metadata": {},
   "outputs": [],
   "source": [
    "predictions = logmodel.predict(X_test)"
   ]
  },
  {
   "cell_type": "code",
   "execution_count": null,
   "metadata": {},
   "outputs": [],
   "source": [
    "from sklearn.metrics import classification_report"
   ]
  },
  {
   "cell_type": "code",
   "execution_count": 36,
   "metadata": {},
   "outputs": [
    {
     "name": "stdout",
     "output_type": "stream",
     "text": [
      "             precision    recall  f1-score   support\n",
      "\n",
      "          0       0.49      0.11      0.18      1516\n",
      "          1       0.87      0.98      0.92      9287\n",
      "\n",
      "avg / total       0.82      0.86      0.82     10803\n",
      "\n"
     ]
    }
   ],
   "source": [
    "print(classification_report(y_test,predictions))"
   ]
  },
  {
   "cell_type": "markdown",
   "metadata": {},
   "source": [
    "# 2.  Support Vector Classifier"
   ]
  },
  {
   "cell_type": "code",
   "execution_count": 37,
   "metadata": {},
   "outputs": [],
   "source": [
    "from sklearn.svm import SVC"
   ]
  },
  {
   "cell_type": "code",
   "execution_count": 38,
   "metadata": {},
   "outputs": [],
   "source": [
    "svc_model = SVC()"
   ]
  },
  {
   "cell_type": "code",
   "execution_count": 39,
   "metadata": {},
   "outputs": [
    {
     "data": {
      "text/plain": [
       "SVC(C=1.0, cache_size=200, class_weight=None, coef0=0.0,\n",
       "  decision_function_shape='ovr', degree=3, gamma='auto', kernel='rbf',\n",
       "  max_iter=-1, probability=False, random_state=None, shrinking=True,\n",
       "  tol=0.001, verbose=False)"
      ]
     },
     "execution_count": 39,
     "metadata": {},
     "output_type": "execute_result"
    }
   ],
   "source": [
    "svc_model.fit(X_train,y_train)"
   ]
  },
  {
   "cell_type": "markdown",
   "metadata": {},
   "source": [
    "# Model Evaluation\n",
    "Now get predictions from the model and create a confusion matrix and a classification report."
   ]
  },
  {
   "cell_type": "code",
   "execution_count": 54,
   "metadata": {},
   "outputs": [],
   "source": [
    "predictions = svc_model.predict(X_test)"
   ]
  },
  {
   "cell_type": "code",
   "execution_count": 55,
   "metadata": {},
   "outputs": [],
   "source": [
    "from sklearn.metrics import classification_report,confusion_matrix"
   ]
  },
  {
   "cell_type": "code",
   "execution_count": 56,
   "metadata": {},
   "outputs": [
    {
     "name": "stdout",
     "output_type": "stream",
     "text": [
      "             precision    recall  f1-score   support\n",
      "\n",
      "          0       0.44      0.09      0.15      1516\n",
      "          1       0.87      0.98      0.92      9287\n",
      "\n",
      "avg / total       0.81      0.86      0.81     10803\n",
      "\n"
     ]
    }
   ],
   "source": [
    "print(classification_report(y_test,predictions))"
   ]
  },
  {
   "cell_type": "code",
   "execution_count": 57,
   "metadata": {},
   "outputs": [
    {
     "name": "stdout",
     "output_type": "stream",
     "text": [
      "[[ 133 1383]\n",
      " [ 169 9118]]\n"
     ]
    }
   ],
   "source": [
    "print(confusion_matrix(y_test,predictions))"
   ]
  },
  {
   "cell_type": "markdown",
   "metadata": {},
   "source": [
    "# 3.  Decision Trees"
   ]
  },
  {
   "cell_type": "code",
   "execution_count": 43,
   "metadata": {},
   "outputs": [],
   "source": [
    "from sklearn.tree import DecisionTreeClassifier"
   ]
  },
  {
   "cell_type": "code",
   "execution_count": 44,
   "metadata": {},
   "outputs": [],
   "source": [
    "dtree = DecisionTreeClassifier()"
   ]
  },
  {
   "cell_type": "code",
   "execution_count": 45,
   "metadata": {},
   "outputs": [
    {
     "data": {
      "text/plain": [
       "DecisionTreeClassifier(class_weight=None, criterion='gini', max_depth=None,\n",
       "            max_features=None, max_leaf_nodes=None,\n",
       "            min_impurity_decrease=0.0, min_impurity_split=None,\n",
       "            min_samples_leaf=1, min_samples_split=2,\n",
       "            min_weight_fraction_leaf=0.0, presort=False, random_state=None,\n",
       "            splitter='best')"
      ]
     },
     "execution_count": 45,
     "metadata": {},
     "output_type": "execute_result"
    }
   ],
   "source": [
    "dtree.fit(X_train,y_train)"
   ]
  },
  {
   "cell_type": "markdown",
   "metadata": {},
   "source": [
    "## Predictions and Evaluation of Decision Tree¶\n",
    "Create predictions from the test set and create a classification report and a confusion matrix."
   ]
  },
  {
   "cell_type": "code",
   "execution_count": null,
   "metadata": {},
   "outputs": [],
   "source": [
    "predictions = dtree.predict(X_test)"
   ]
  },
  {
   "cell_type": "code",
   "execution_count": 46,
   "metadata": {},
   "outputs": [
    {
     "name": "stdout",
     "output_type": "stream",
     "text": [
      "             precision    recall  f1-score   support\n",
      "\n",
      "          0       0.44      0.09      0.15      1516\n",
      "          1       0.87      0.98      0.92      9287\n",
      "\n",
      "avg / total       0.81      0.86      0.81     10803\n",
      "\n"
     ]
    }
   ],
   "source": [
    "print(classification_report(y_test,predictions))"
   ]
  },
  {
   "cell_type": "code",
   "execution_count": 47,
   "metadata": {},
   "outputs": [
    {
     "name": "stdout",
     "output_type": "stream",
     "text": [
      "[[ 133 1383]\n",
      " [ 169 9118]]\n"
     ]
    }
   ],
   "source": [
    "print(confusion_matrix(y_test,predictions))"
   ]
  },
  {
   "cell_type": "markdown",
   "metadata": {},
   "source": [
    "## Training the Random Forest model"
   ]
  },
  {
   "cell_type": "code",
   "execution_count": 48,
   "metadata": {},
   "outputs": [],
   "source": [
    "from sklearn.ensemble import RandomForestClassifier"
   ]
  },
  {
   "cell_type": "code",
   "execution_count": 58,
   "metadata": {},
   "outputs": [],
   "source": [
    "rfc = RandomForestClassifier(n_estimators=1000)"
   ]
  },
  {
   "cell_type": "code",
   "execution_count": 59,
   "metadata": {},
   "outputs": [
    {
     "data": {
      "text/plain": [
       "RandomForestClassifier(bootstrap=True, class_weight=None, criterion='gini',\n",
       "            max_depth=None, max_features='auto', max_leaf_nodes=None,\n",
       "            min_impurity_decrease=0.0, min_impurity_split=None,\n",
       "            min_samples_leaf=1, min_samples_split=2,\n",
       "            min_weight_fraction_leaf=0.0, n_estimators=1000, n_jobs=1,\n",
       "            oob_score=False, random_state=None, verbose=0,\n",
       "            warm_start=False)"
      ]
     },
     "execution_count": 59,
     "metadata": {},
     "output_type": "execute_result"
    }
   ],
   "source": [
    "rfc.fit(X_train,y_train)"
   ]
  },
  {
   "cell_type": "code",
   "execution_count": 60,
   "metadata": {},
   "outputs": [],
   "source": [
    "predictions = rfc.predict(X_test)"
   ]
  },
  {
   "cell_type": "code",
   "execution_count": 61,
   "metadata": {},
   "outputs": [
    {
     "name": "stdout",
     "output_type": "stream",
     "text": [
      "             precision    recall  f1-score   support\n",
      "\n",
      "          0       0.43      0.19      0.26      1516\n",
      "          1       0.88      0.96      0.92      9287\n",
      "\n",
      "avg / total       0.82      0.85      0.83     10803\n",
      "\n"
     ]
    }
   ],
   "source": [
    "print(classification_report(y_test,predictions))"
   ]
  },
  {
   "cell_type": "code",
   "execution_count": 62,
   "metadata": {},
   "outputs": [
    {
     "name": "stdout",
     "output_type": "stream",
     "text": [
      "[[ 286 1230]\n",
      " [ 383 8904]]\n"
     ]
    }
   ],
   "source": [
    "print(confusion_matrix(y_test,predictions))"
   ]
  },
  {
   "cell_type": "code",
   "execution_count": null,
   "metadata": {},
   "outputs": [],
   "source": []
  },
  {
   "cell_type": "code",
   "execution_count": 464,
   "metadata": {},
   "outputs": [],
   "source": [
    "#########################################"
   ]
  },
  {
   "cell_type": "markdown",
   "metadata": {},
   "source": [
    "Apply Logistic Regression\n",
    "Apply Support Vector Classifier, optimize on accuracy.\n",
    "Apply Decision Tree Classifier, optimize on accuracy.\n",
    "Apply Random Forest Classifier, optimize on accuracy"
   ]
  },
  {
   "cell_type": "code",
   "execution_count": null,
   "metadata": {},
   "outputs": [],
   "source": [
    "# Apply logistic regression: with scikit-learn; with statsmodels.\n",
    "# Find out which feature correlations cause the age coefficient to be negative.\n",
    "# Make some correlation plots between the features age, thalach, and ca.\n",
    "# Repeat fit on a subset of features (age and thalach, separately for ca=0 and ca>0)\n",
    "# Which features should we keep?\n",
    "# Find the set of features that yields the best accuracy score, using cross-validation.\n",
    "# Try eliminating features with a non-significant coefficient, one by one, while keeping the model deviance as low as possible. We'll use this second method for the final results.\n",
    "# Compute logistic regression model accuracy, precision and recall for the final selection of features and using the full training data set (biased estimation).\n",
    "# Recompute accuracy, precision and recall using cross-validation to avoid bias.\n",
    "\n",
    "# Apply Gaussian Naive Bayes, optimize on accuracy."
   ]
  },
  {
   "cell_type": "code",
   "execution_count": 465,
   "metadata": {},
   "outputs": [],
   "source": [
    "Apply Logistic Regression\n",
    "Apply Support Vector Classifier, optimize on accuracy.\n",
    "Apply Decision Tree Classifier, optimize on accuracy.\n",
    "Apply Random Forest Classifier, optimize on accuracy"
   ]
  },
  {
   "cell_type": "code",
   "execution_count": null,
   "metadata": {},
   "outputs": [],
   "source": []
  },
  {
   "cell_type": "code",
   "execution_count": null,
   "metadata": {},
   "outputs": [],
   "source": []
  },
  {
   "cell_type": "code",
   "execution_count": null,
   "metadata": {},
   "outputs": [],
   "source": []
  }
 ],
 "metadata": {
  "kernelspec": {
   "display_name": "Python 3",
   "language": "python",
   "name": "python3"
  },
  "language_info": {
   "codemirror_mode": {
    "name": "ipython",
    "version": 3
   },
   "file_extension": ".py",
   "mimetype": "text/x-python",
   "name": "python",
   "nbconvert_exporter": "python",
   "pygments_lexer": "ipython3",
   "version": "3.6.5"
  }
 },
 "nbformat": 4,
 "nbformat_minor": 1
}
